{
 "cells": [
  {
   "cell_type": "code",
   "execution_count": 1,
   "id": "5d82af48",
   "metadata": {},
   "outputs": [],
   "source": [
    "# Importando bibliotecas utilizadas\n",
    "import pandas as pd\n",
    "import numpy as np\n",
    "import random\n",
    "import matplotlib.pyplot as plt\n",
    "from math import sqrt, pow\n",
    "from datetime import datetime\n",
    "from time import sleep"
   ]
  },
  {
   "cell_type": "code",
   "execution_count": 2,
   "id": "b4f520b2",
   "metadata": {},
   "outputs": [
    {
     "data": {
      "text/html": [
       "<div>\n",
       "<style scoped>\n",
       "    .dataframe tbody tr th:only-of-type {\n",
       "        vertical-align: middle;\n",
       "    }\n",
       "\n",
       "    .dataframe tbody tr th {\n",
       "        vertical-align: top;\n",
       "    }\n",
       "\n",
       "    .dataframe thead th {\n",
       "        text-align: right;\n",
       "    }\n",
       "</style>\n",
       "<table border=\"1\" class=\"dataframe\">\n",
       "  <thead>\n",
       "    <tr style=\"text-align: right;\">\n",
       "      <th></th>\n",
       "      <th>sample_label</th>\n",
       "      <th>d1</th>\n",
       "      <th>d2</th>\n",
       "    </tr>\n",
       "  </thead>\n",
       "  <tbody>\n",
       "    <tr>\n",
       "      <th>0</th>\n",
       "      <td>c2sp1s1</td>\n",
       "      <td>10.500000</td>\n",
       "      <td>9.000000</td>\n",
       "    </tr>\n",
       "    <tr>\n",
       "      <th>1</th>\n",
       "      <td>c2sp1s2</td>\n",
       "      <td>10.567170</td>\n",
       "      <td>9.268445</td>\n",
       "    </tr>\n",
       "    <tr>\n",
       "      <th>2</th>\n",
       "      <td>c2sp1s3</td>\n",
       "      <td>8.275320</td>\n",
       "      <td>11.382210</td>\n",
       "    </tr>\n",
       "    <tr>\n",
       "      <th>3</th>\n",
       "      <td>c2sp1s4</td>\n",
       "      <td>8.227458</td>\n",
       "      <td>11.377640</td>\n",
       "    </tr>\n",
       "    <tr>\n",
       "      <th>4</th>\n",
       "      <td>c2sp1s5</td>\n",
       "      <td>8.179511</td>\n",
       "      <td>11.372110</td>\n",
       "    </tr>\n",
       "  </tbody>\n",
       "</table>\n",
       "</div>"
      ],
      "text/plain": [
       "  sample_label         d1         d2\n",
       "0      c2sp1s1  10.500000   9.000000\n",
       "1      c2sp1s2  10.567170   9.268445\n",
       "2      c2sp1s3   8.275320  11.382210\n",
       "3      c2sp1s4   8.227458  11.377640\n",
       "4      c2sp1s5   8.179511  11.372110"
      ]
     },
     "execution_count": 2,
     "metadata": {},
     "output_type": "execute_result"
    }
   ],
   "source": [
    "df = pd.read_csv('datasets/c2ds1-2sp.txt', sep='\\t')\n",
    "df.head()"
   ]
  },
  {
   "cell_type": "code",
   "execution_count": 3,
   "id": "846e3296",
   "metadata": {},
   "outputs": [
    {
     "data": {
      "text/html": [
       "<div>\n",
       "<style scoped>\n",
       "    .dataframe tbody tr th:only-of-type {\n",
       "        vertical-align: middle;\n",
       "    }\n",
       "\n",
       "    .dataframe tbody tr th {\n",
       "        vertical-align: top;\n",
       "    }\n",
       "\n",
       "    .dataframe thead th {\n",
       "        text-align: right;\n",
       "    }\n",
       "</style>\n",
       "<table border=\"1\" class=\"dataframe\">\n",
       "  <thead>\n",
       "    <tr style=\"text-align: right;\">\n",
       "      <th></th>\n",
       "      <th>identificador</th>\n",
       "      <th>d1</th>\n",
       "      <th>d2</th>\n",
       "    </tr>\n",
       "  </thead>\n",
       "  <tbody>\n",
       "    <tr>\n",
       "      <th>0</th>\n",
       "      <td>monkeyc1g1s1</td>\n",
       "      <td>8.809783</td>\n",
       "      <td>7.611147</td>\n",
       "    </tr>\n",
       "    <tr>\n",
       "      <th>1</th>\n",
       "      <td>monkeyc1g1s2</td>\n",
       "      <td>4.110747</td>\n",
       "      <td>11.103186</td>\n",
       "    </tr>\n",
       "    <tr>\n",
       "      <th>2</th>\n",
       "      <td>monkeyc1g1s3</td>\n",
       "      <td>4.114710</td>\n",
       "      <td>11.039587</td>\n",
       "    </tr>\n",
       "    <tr>\n",
       "      <th>3</th>\n",
       "      <td>monkeyc1g1s4</td>\n",
       "      <td>3.154736</td>\n",
       "      <td>6.743244</td>\n",
       "    </tr>\n",
       "    <tr>\n",
       "      <th>4</th>\n",
       "      <td>monkeyc1g1s5</td>\n",
       "      <td>5.972931</td>\n",
       "      <td>7.537982</td>\n",
       "    </tr>\n",
       "  </tbody>\n",
       "</table>\n",
       "</div>"
      ],
      "text/plain": [
       "  identificador        d1         d2\n",
       "0  monkeyc1g1s1  8.809783   7.611147\n",
       "1  monkeyc1g1s2  4.110747  11.103186\n",
       "2  monkeyc1g1s3  4.114710  11.039587\n",
       "3  monkeyc1g1s4  3.154736   6.743244\n",
       "4  monkeyc1g1s5  5.972931   7.537982"
      ]
     },
     "execution_count": 3,
     "metadata": {},
     "output_type": "execute_result"
    }
   ],
   "source": [
    "df3 = pd.read_csv('datasets/monkey.txt', sep='\\t')\n",
    "df3.columns = ['identificador','d1', 'd2']\n",
    "df3.head()"
   ]
  },
  {
   "cell_type": "markdown",
   "id": "90adeb46",
   "metadata": {},
   "source": [
    "# Algoritmo"
   ]
  },
  {
   "cell_type": "code",
   "execution_count": 4,
   "id": "3435669d",
   "metadata": {},
   "outputs": [],
   "source": [
    "#Distancia Euclidiana\n",
    "# Mudei a forma como é calculado para poder utilizar vetorização\n",
    "def distancia_euclidiana(x1, y1, x2, y2):\n",
    "    X = x1 - x2\n",
    "    Y = y1 - y2\n",
    "    \n",
    "    X = X*X\n",
    "    Y = Y*Y\n",
    "    \n",
    "    distancia = np.sqrt(X+Y)\n",
    "    return distancia"
   ]
  },
  {
   "cell_type": "code",
   "execution_count": 5,
   "id": "dba07c55",
   "metadata": {},
   "outputs": [],
   "source": [
    "def calcular_distancia_full_optimized(df):\n",
    "    lista = []\n",
    "    for i, row in df.iterrows():\n",
    "        distancias = distancia_euclidiana(row['d1'], row['d2'], df[i+1:]['d1'].values, df[i+1:]['d2'].values)\n",
    "        \n",
    "        lista.append(distancias)\n",
    "      \n",
    "    return lista"
   ]
  },
  {
   "cell_type": "code",
   "execution_count": 6,
   "id": "4b4edd88",
   "metadata": {},
   "outputs": [],
   "source": [
    "def dist_matrix(df):\n",
    "    lista = []\n",
    "    for i, row in df.iterrows():\n",
    "        distancias = distancia_euclidiana(row['d1'], row['d2'], df['d1'], df['d2'])\n",
    "        \n",
    "        lista.append(distancias)\n",
    "      \n",
    "    return lista"
   ]
  },
  {
   "cell_type": "markdown",
   "id": "c35c3f4d",
   "metadata": {},
   "source": [
    "# Testes"
   ]
  },
  {
   "cell_type": "code",
   "execution_count": 7,
   "id": "af367f20",
   "metadata": {},
   "outputs": [
    {
     "data": {
      "text/html": [
       "<div>\n",
       "<style scoped>\n",
       "    .dataframe tbody tr th:only-of-type {\n",
       "        vertical-align: middle;\n",
       "    }\n",
       "\n",
       "    .dataframe tbody tr th {\n",
       "        vertical-align: top;\n",
       "    }\n",
       "\n",
       "    .dataframe thead th {\n",
       "        text-align: right;\n",
       "    }\n",
       "</style>\n",
       "<table border=\"1\" class=\"dataframe\">\n",
       "  <thead>\n",
       "    <tr style=\"text-align: right;\">\n",
       "      <th></th>\n",
       "      <th>sample_label</th>\n",
       "      <th>d1</th>\n",
       "      <th>d2</th>\n",
       "    </tr>\n",
       "  </thead>\n",
       "  <tbody>\n",
       "    <tr>\n",
       "      <th>0</th>\n",
       "      <td>c2sp1s1</td>\n",
       "      <td>10.500000</td>\n",
       "      <td>9.000000</td>\n",
       "    </tr>\n",
       "    <tr>\n",
       "      <th>1</th>\n",
       "      <td>c2sp1s2</td>\n",
       "      <td>10.567170</td>\n",
       "      <td>9.268445</td>\n",
       "    </tr>\n",
       "    <tr>\n",
       "      <th>2</th>\n",
       "      <td>c2sp1s3</td>\n",
       "      <td>8.275320</td>\n",
       "      <td>11.382210</td>\n",
       "    </tr>\n",
       "    <tr>\n",
       "      <th>3</th>\n",
       "      <td>c2sp1s4</td>\n",
       "      <td>8.227458</td>\n",
       "      <td>11.377640</td>\n",
       "    </tr>\n",
       "    <tr>\n",
       "      <th>4</th>\n",
       "      <td>c2sp1s5</td>\n",
       "      <td>8.179511</td>\n",
       "      <td>11.372110</td>\n",
       "    </tr>\n",
       "    <tr>\n",
       "      <th>5</th>\n",
       "      <td>c2sp1s6</td>\n",
       "      <td>8.131500</td>\n",
       "      <td>11.365610</td>\n",
       "    </tr>\n",
       "    <tr>\n",
       "      <th>6</th>\n",
       "      <td>c2sp1s7</td>\n",
       "      <td>8.083443</td>\n",
       "      <td>11.358140</td>\n",
       "    </tr>\n",
       "    <tr>\n",
       "      <th>7</th>\n",
       "      <td>c2sp1s8</td>\n",
       "      <td>8.035361</td>\n",
       "      <td>11.349700</td>\n",
       "    </tr>\n",
       "    <tr>\n",
       "      <th>8</th>\n",
       "      <td>c2sp1s9</td>\n",
       "      <td>7.987270</td>\n",
       "      <td>11.340270</td>\n",
       "    </tr>\n",
       "    <tr>\n",
       "      <th>9</th>\n",
       "      <td>c2sp1s10</td>\n",
       "      <td>7.939200</td>\n",
       "      <td>11.329870</td>\n",
       "    </tr>\n",
       "  </tbody>\n",
       "</table>\n",
       "</div>"
      ],
      "text/plain": [
       "  sample_label         d1         d2\n",
       "0      c2sp1s1  10.500000   9.000000\n",
       "1      c2sp1s2  10.567170   9.268445\n",
       "2      c2sp1s3   8.275320  11.382210\n",
       "3      c2sp1s4   8.227458  11.377640\n",
       "4      c2sp1s5   8.179511  11.372110\n",
       "5      c2sp1s6   8.131500  11.365610\n",
       "6      c2sp1s7   8.083443  11.358140\n",
       "7      c2sp1s8   8.035361  11.349700\n",
       "8      c2sp1s9   7.987270  11.340270\n",
       "9     c2sp1s10   7.939200  11.329870"
      ]
     },
     "execution_count": 7,
     "metadata": {},
     "output_type": "execute_result"
    }
   ],
   "source": [
    "df_menor = df[:10].copy()\n",
    "df_menor"
   ]
  },
  {
   "cell_type": "code",
   "execution_count": 8,
   "id": "ef7fdfb7",
   "metadata": {},
   "outputs": [
    {
     "data": {
      "text/plain": [
       "array([0.        , 0.27672103, 3.25946707, 3.28901492, 3.31836934,\n",
       "       3.34752191, 3.37647331, 3.4052218 , 3.43375534, 3.46207898])"
      ]
     },
     "execution_count": 8,
     "metadata": {},
     "output_type": "execute_result"
    }
   ],
   "source": [
    "dists = distancia_euclidiana(10.5, 9, df_menor['d1'].values,df_menor['d2'].values)\n",
    "dists"
   ]
  },
  {
   "cell_type": "code",
   "execution_count": 9,
   "id": "8056b739",
   "metadata": {},
   "outputs": [
    {
     "data": {
      "text/plain": [
       "0    0.000000\n",
       "1    0.276721\n",
       "2    3.259467\n",
       "3    3.289015\n",
       "4    3.318369\n",
       "5    3.347522\n",
       "6    3.376473\n",
       "7    3.405222\n",
       "8    3.433755\n",
       "9    3.462079\n",
       "dtype: float64"
      ]
     },
     "execution_count": 9,
     "metadata": {},
     "output_type": "execute_result"
    }
   ],
   "source": [
    "dists = distancia_euclidiana(10.5, 9, df_menor['d1'], df_menor['d2'])\n",
    "dists"
   ]
  },
  {
   "cell_type": "code",
   "execution_count": 30,
   "id": "59306441",
   "metadata": {},
   "outputs": [
    {
     "name": "stdout",
     "output_type": "stream",
     "text": [
      "401 ms ± 8.48 ms per loop (mean ± std. dev. of 7 runs, 1 loop each)\n"
     ]
    }
   ],
   "source": [
    "%%timeit\n",
    "teste = dist_matrix(df3)\n"
   ]
  },
  {
   "cell_type": "code",
   "execution_count": 29,
   "id": "be8a3d33",
   "metadata": {},
   "outputs": [
    {
     "name": "stdout",
     "output_type": "stream",
     "text": [
      "1.19 s ± 70.4 ms per loop (mean ± std. dev. of 7 runs, 1 loop each)\n"
     ]
    }
   ],
   "source": [
    "%%timeit\n",
    "\n",
    "teste = calcular_distancia_full_optimized(df3)"
   ]
  },
  {
   "cell_type": "code",
   "execution_count": null,
   "id": "925cfbc3",
   "metadata": {},
   "outputs": [],
   "source": [
    "%%timeit\n",
    "\n",
    "teste = calcular_distancia_full_optimized(df3)"
   ]
  },
  {
   "cell_type": "code",
   "execution_count": null,
   "id": "97f5b5e7",
   "metadata": {},
   "outputs": [],
   "source": []
  }
 ],
 "metadata": {
  "kernelspec": {
   "display_name": "Python 3",
   "language": "python",
   "name": "python3"
  },
  "language_info": {
   "codemirror_mode": {
    "name": "ipython",
    "version": 3
   },
   "file_extension": ".py",
   "mimetype": "text/x-python",
   "name": "python",
   "nbconvert_exporter": "python",
   "pygments_lexer": "ipython3",
   "version": "3.9.4"
  }
 },
 "nbformat": 4,
 "nbformat_minor": 5
}
