{
 "cells": [
  {
   "cell_type": "code",
   "execution_count": 1,
   "metadata": {},
   "outputs": [],
   "source": [
    "# Importando bibliotecas utilizadas\n",
    "import pandas as pd\n",
    "import numpy as np\n",
    "import random\n",
    "import matplotlib.pyplot as plt\n",
    "from math import sqrt, pow\n",
    "from datetime import datetime\n",
    "from time import sleep"
   ]
  },
  {
   "cell_type": "code",
   "execution_count": 2,
   "metadata": {},
   "outputs": [],
   "source": [
    "from scipy.spatial.distance import pdist, squareform"
   ]
  },
  {
   "cell_type": "code",
   "execution_count": 2,
   "metadata": {},
   "outputs": [
    {
     "data": {
      "text/html": [
       "<div>\n",
       "<style scoped>\n",
       "    .dataframe tbody tr th:only-of-type {\n",
       "        vertical-align: middle;\n",
       "    }\n",
       "\n",
       "    .dataframe tbody tr th {\n",
       "        vertical-align: top;\n",
       "    }\n",
       "\n",
       "    .dataframe thead th {\n",
       "        text-align: right;\n",
       "    }\n",
       "</style>\n",
       "<table border=\"1\" class=\"dataframe\">\n",
       "  <thead>\n",
       "    <tr style=\"text-align: right;\">\n",
       "      <th></th>\n",
       "      <th>sample_label</th>\n",
       "      <th>d1</th>\n",
       "      <th>d2</th>\n",
       "    </tr>\n",
       "  </thead>\n",
       "  <tbody>\n",
       "    <tr>\n",
       "      <th>0</th>\n",
       "      <td>c2sp1s1</td>\n",
       "      <td>10.500000</td>\n",
       "      <td>9.000000</td>\n",
       "    </tr>\n",
       "    <tr>\n",
       "      <th>1</th>\n",
       "      <td>c2sp1s2</td>\n",
       "      <td>10.567170</td>\n",
       "      <td>9.268445</td>\n",
       "    </tr>\n",
       "    <tr>\n",
       "      <th>2</th>\n",
       "      <td>c2sp1s3</td>\n",
       "      <td>8.275320</td>\n",
       "      <td>11.382210</td>\n",
       "    </tr>\n",
       "    <tr>\n",
       "      <th>3</th>\n",
       "      <td>c2sp1s4</td>\n",
       "      <td>8.227458</td>\n",
       "      <td>11.377640</td>\n",
       "    </tr>\n",
       "    <tr>\n",
       "      <th>4</th>\n",
       "      <td>c2sp1s5</td>\n",
       "      <td>8.179511</td>\n",
       "      <td>11.372110</td>\n",
       "    </tr>\n",
       "  </tbody>\n",
       "</table>\n",
       "</div>"
      ],
      "text/plain": [
       "  sample_label         d1         d2\n",
       "0      c2sp1s1  10.500000   9.000000\n",
       "1      c2sp1s2  10.567170   9.268445\n",
       "2      c2sp1s3   8.275320  11.382210\n",
       "3      c2sp1s4   8.227458  11.377640\n",
       "4      c2sp1s5   8.179511  11.372110"
      ]
     },
     "execution_count": 2,
     "metadata": {},
     "output_type": "execute_result"
    }
   ],
   "source": [
    "df = pd.read_csv('datasets/c2ds1-2sp.txt', sep='\\t')\n",
    "df.head()"
   ]
  },
  {
   "cell_type": "code",
   "execution_count": 4,
   "metadata": {},
   "outputs": [
    {
     "data": {
      "text/html": [
       "<div>\n",
       "<style scoped>\n",
       "    .dataframe tbody tr th:only-of-type {\n",
       "        vertical-align: middle;\n",
       "    }\n",
       "\n",
       "    .dataframe tbody tr th {\n",
       "        vertical-align: top;\n",
       "    }\n",
       "\n",
       "    .dataframe thead th {\n",
       "        text-align: right;\n",
       "    }\n",
       "</style>\n",
       "<table border=\"1\" class=\"dataframe\">\n",
       "  <thead>\n",
       "    <tr style=\"text-align: right;\">\n",
       "      <th></th>\n",
       "      <th>identificador</th>\n",
       "      <th>d1</th>\n",
       "      <th>d2</th>\n",
       "    </tr>\n",
       "  </thead>\n",
       "  <tbody>\n",
       "    <tr>\n",
       "      <th>0</th>\n",
       "      <td>monkeyc1g1s1</td>\n",
       "      <td>8.809783</td>\n",
       "      <td>7.611147</td>\n",
       "    </tr>\n",
       "    <tr>\n",
       "      <th>1</th>\n",
       "      <td>monkeyc1g1s2</td>\n",
       "      <td>4.110747</td>\n",
       "      <td>11.103186</td>\n",
       "    </tr>\n",
       "    <tr>\n",
       "      <th>2</th>\n",
       "      <td>monkeyc1g1s3</td>\n",
       "      <td>4.114710</td>\n",
       "      <td>11.039587</td>\n",
       "    </tr>\n",
       "    <tr>\n",
       "      <th>3</th>\n",
       "      <td>monkeyc1g1s4</td>\n",
       "      <td>3.154736</td>\n",
       "      <td>6.743244</td>\n",
       "    </tr>\n",
       "    <tr>\n",
       "      <th>4</th>\n",
       "      <td>monkeyc1g1s5</td>\n",
       "      <td>5.972931</td>\n",
       "      <td>7.537982</td>\n",
       "    </tr>\n",
       "  </tbody>\n",
       "</table>\n",
       "</div>"
      ],
      "text/plain": [
       "  identificador        d1         d2\n",
       "0  monkeyc1g1s1  8.809783   7.611147\n",
       "1  monkeyc1g1s2  4.110747  11.103186\n",
       "2  monkeyc1g1s3  4.114710  11.039587\n",
       "3  monkeyc1g1s4  3.154736   6.743244\n",
       "4  monkeyc1g1s5  5.972931   7.537982"
      ]
     },
     "execution_count": 4,
     "metadata": {},
     "output_type": "execute_result"
    }
   ],
   "source": [
    "df3 = pd.read_csv('datasets/monkey.txt', sep='\\t')\n",
    "df3.columns = ['identificador','d1', 'd2']\n",
    "df3.head()"
   ]
  },
  {
   "cell_type": "code",
   "execution_count": 5,
   "metadata": {},
   "outputs": [
    {
     "data": {
      "text/html": [
       "<div>\n",
       "<style scoped>\n",
       "    .dataframe tbody tr th:only-of-type {\n",
       "        vertical-align: middle;\n",
       "    }\n",
       "\n",
       "    .dataframe tbody tr th {\n",
       "        vertical-align: top;\n",
       "    }\n",
       "\n",
       "    .dataframe thead th {\n",
       "        text-align: right;\n",
       "    }\n",
       "</style>\n",
       "<table border=\"1\" class=\"dataframe\">\n",
       "  <thead>\n",
       "    <tr style=\"text-align: right;\">\n",
       "      <th></th>\n",
       "      <th>identificador</th>\n",
       "      <th>d1</th>\n",
       "      <th>d2</th>\n",
       "    </tr>\n",
       "  </thead>\n",
       "  <tbody>\n",
       "    <tr>\n",
       "      <th>3995</th>\n",
       "      <td>monkeyc8sp2s3996</td>\n",
       "      <td>-1.60114</td>\n",
       "      <td>14.773205</td>\n",
       "    </tr>\n",
       "    <tr>\n",
       "      <th>3996</th>\n",
       "      <td>monkeyc8sp2s3997</td>\n",
       "      <td>-1.57863</td>\n",
       "      <td>14.893001</td>\n",
       "    </tr>\n",
       "    <tr>\n",
       "      <th>3997</th>\n",
       "      <td>monkeyc8sp2s3998</td>\n",
       "      <td>-1.55835</td>\n",
       "      <td>15.013389</td>\n",
       "    </tr>\n",
       "    <tr>\n",
       "      <th>3998</th>\n",
       "      <td>monkeyc8sp2s3999</td>\n",
       "      <td>-1.54034</td>\n",
       "      <td>15.134325</td>\n",
       "    </tr>\n",
       "    <tr>\n",
       "      <th>3999</th>\n",
       "      <td>monkeyc8sp2s4000</td>\n",
       "      <td>-1.52460</td>\n",
       "      <td>15.255768</td>\n",
       "    </tr>\n",
       "  </tbody>\n",
       "</table>\n",
       "</div>"
      ],
      "text/plain": [
       "         identificador       d1         d2\n",
       "3995  monkeyc8sp2s3996 -1.60114  14.773205\n",
       "3996  monkeyc8sp2s3997 -1.57863  14.893001\n",
       "3997  monkeyc8sp2s3998 -1.55835  15.013389\n",
       "3998  monkeyc8sp2s3999 -1.54034  15.134325\n",
       "3999  monkeyc8sp2s4000 -1.52460  15.255768"
      ]
     },
     "execution_count": 5,
     "metadata": {},
     "output_type": "execute_result"
    }
   ],
   "source": [
    "df3.tail()"
   ]
  },
  {
   "cell_type": "markdown",
   "metadata": {},
   "source": [
    "# Algoritmo"
   ]
  },
  {
   "cell_type": "code",
   "execution_count": null,
   "metadata": {},
   "outputs": [],
   "source": [
    "#Distancia Euclidiana\n",
    "# Mudei a forma como é calculado para poder utilizar vetorização\n",
    "def distancia_euclidiana(x1, y1, x2, y2):\n",
    "    X = x1 - x2\n",
    "    Y = y1 - y2\n",
    "    \n",
    "    X = X*X\n",
    "    Y = Y*Y\n",
    "    \n",
    "    distancia = np.sqrt(X+Y)\n",
    "    return distancia"
   ]
  },
  {
   "cell_type": "code",
   "execution_count": null,
   "metadata": {},
   "outputs": [],
   "source": [
    "def calcular_distancia_full_optimized(df):\n",
    "    lista = []\n",
    "    for i, row in df.iterrows():\n",
    "        distancias = distancia_euclidiana(row['d1'], row['d2'], df[i+1:]['d1'].values, df[i+1:]['d2'].values)\n",
    "        \n",
    "        lista.append(distancias)\n",
    "      \n",
    "    return lista"
   ]
  },
  {
   "cell_type": "code",
   "execution_count": null,
   "metadata": {},
   "outputs": [],
   "source": [
    "def dist_matrix(df):\n",
    "    lista = []\n",
    "    for i, row in df.iterrows():\n",
    "        distancias = distancia_euclidiana(row['d1'], row['d2'], df['d1'].values, df['d2'].values)\n",
    "\n",
    "        lista.append(distancias)\n",
    "    \n",
    "    matrix = np.matrix(lista)\n",
    "    np.fill_diagonal(matrix, float('inf'))\n",
    "    return matrix"
   ]
  },
  {
   "cell_type": "code",
   "execution_count": null,
   "metadata": {},
   "outputs": [],
   "source": [
    "def get_pos(u, v, num_obj):\n",
    "    return u*num_obj + v"
   ]
  },
  {
   "cell_type": "code",
   "execution_count": null,
   "metadata": {},
   "outputs": [],
   "source": [
    "def criar_lista_de_indices(pos_menor, pos_maior, numero_de_objetos):\n",
    "    lista = np.array([], dtype=int)\n",
    "    for i in pos_menor:\n",
    "        aux = get_pos(i, pos_maior, numero_de_objetos)\n",
    "        lista = np.concatenate((lista,aux))\n",
    "        \n",
    "    return lista"
   ]
  },
  {
   "cell_type": "code",
   "execution_count": null,
   "metadata": {},
   "outputs": [],
   "source": [
    "def agrupar_clusters(matriz, clusters, objetos, numero_de_objetos):\n",
    "    obj1, obj2 =  objetos\n",
    "    cluster1 = clusters[obj1]\n",
    "    cluster2 = clusters[obj2]\n",
    "    \n",
    "    if cluster1 == cluster2:\n",
    "        return False\n",
    "    \n",
    "    if cluster1 < cluster2:\n",
    "        menor_cluster = cluster1\n",
    "        maior_cluster = cluster2\n",
    "    else:\n",
    "        menor_cluster = cluster2\n",
    "        maior_cluster = cluster1\n",
    "        \n",
    "    pos_menor = np.array(np.where(clusters == menor_cluster))\n",
    "    pos_maior = np.array(np.where(clusters == maior_cluster))\n",
    "    \n",
    "#     print(f\"Número de objetos {numero_de_objetos}\")\n",
    "#     print(f\"Posição cluster menor {pos_menor}\")\n",
    "#     print(f\"Posição cluster maior {pos_maior}\\n\\n\")\n",
    "#     print(lista_de_indices_inf)\n",
    "    lista_de_indices_inf = criar_lista_de_indices(pos_menor[0], pos_maior[0], numero_de_objetos)\n",
    "#     print(f'Lista de índices {lista_de_indices_inf}')\n",
    "    \n",
    "    np.put(matriz, lista_de_indices_inf, float('inf'))\n",
    "    \n",
    "    clusters[clusters == maior_cluster] = menor_cluster\n",
    "    return True"
   ]
  },
  {
   "cell_type": "code",
   "execution_count": null,
   "metadata": {},
   "outputs": [],
   "source": [
    "def single_link(dataset, k_min, k_max, nome):\n",
    "    numero_de_objetos = len(dataset)\n",
    "    matrix = dist_matrix(dataset)\n",
    "    clusters = np.arange(numero_de_objetos)\n",
    "    \n",
    "    qtd_clusters = numero_de_objetos\n",
    "    while qtd_clusters > k_min:\n",
    "        objetos = matrix.argmin()\n",
    "        i = objetos // numero_de_objetos\n",
    "        j = objetos % numero_de_objetos\n",
    "        matrix[i,j] = float('inf')\n",
    "        matrix[j,i] = float('inf')\n",
    "        \n",
    "        if agrupar_clusters(matrix, clusters, [i,j], numero_de_objetos):\n",
    "            if qtd_clusters % 100 == 0:\n",
    "                print(qtd_clusters)\n",
    "            qtd_clusters -= 1\n",
    "    \n",
    "    return clusters"
   ]
  },
  {
   "cell_type": "markdown",
   "metadata": {},
   "source": [
    "# MST"
   ]
  },
  {
   "cell_type": "code",
   "execution_count": 3,
   "metadata": {},
   "outputs": [],
   "source": [
    "#Distancia Euclidiana\n",
    "# Mudei a forma como é calculado para poder utilizar vetorização\n",
    "def distancia_euclidiana(x1, y1, x2, y2):\n",
    "    X = x1 - x2\n",
    "    Y = y1 - y2\n",
    "    \n",
    "    X = X*X\n",
    "    Y = Y*Y\n",
    "    \n",
    "    distancia = np.sqrt(X+Y)\n",
    "    return distancia"
   ]
  },
  {
   "cell_type": "code",
   "execution_count": 4,
   "metadata": {},
   "outputs": [],
   "source": [
    "def dist_matrix(df):\n",
    "    lista = []\n",
    "    for i, row in df.iterrows():\n",
    "        distancias = distancia_euclidiana(row['d1'], row['d2'], df['d1'].values, df['d2'].values)\n",
    "        \n",
    "        lista.append(distancias)\n",
    "    \n",
    "    matrix = np.array(lista)\n",
    "    np.fill_diagonal(matrix, float('inf'))\n",
    "    \n",
    "    \n",
    "    return matrix"
   ]
  },
  {
   "cell_type": "code",
   "execution_count": 14,
   "metadata": {},
   "outputs": [],
   "source": [
    "def agrupar_clusters(clusters, objetos, numero_de_objetos):\n",
    "    obj1, obj2 =  objetos\n",
    "    cluster1 = clusters[obj1]\n",
    "    cluster2 = clusters[obj2]\n",
    "\n",
    "    \n",
    "    if cluster1 < cluster2:\n",
    "        menor_cluster = cluster1\n",
    "        maior_cluster = cluster2\n",
    "    else:\n",
    "        menor_cluster = cluster2\n",
    "        maior_cluster = cluster1\n",
    "        \n",
    "    pos_menor = np.array(np.where(clusters == menor_cluster))\n",
    "    pos_maior = np.array(np.where(clusters == maior_cluster))\n",
    "\n",
    "    clusters[clusters == maior_cluster] = menor_cluster"
   ]
  },
  {
   "cell_type": "code",
   "execution_count": 23,
   "metadata": {},
   "outputs": [],
   "source": [
    "def mst_single_link(matriz, numero_de_objetos):\n",
    "    # Matriz com objetos e distancia até eles\n",
    "    # obj1 obj2 dist\n",
    "    ordem_de_agrupamento = np.zeros((numero_de_objetos-1,3))\n",
    "    \n",
    "    # Quais objetos já foram juntados\n",
    "    conectados = np.zeros(numero_de_objetos)\n",
    "    \n",
    "    #Distância até cada objeto que é possível alcançar\n",
    "    #Seria a distância entres os objetos que já temos como alcançar do algoritmo de Prim\n",
    "    #Começa todos com infinito\n",
    "    dist_conhecidas = np.zeros(numero_de_objetos)\n",
    "    dist_conhecidas[:] = float('inf')\n",
    "    \n",
    "    # obj 1 e 2 serão os pontos\n",
    "    # dist_atual é a menor distância de cada iteração\n",
    "    obj2 = dist_atual = -1\n",
    "    obj1 = 0\n",
    "    \n",
    "    for i in range(numero_de_objetos-1):\n",
    "        conectados[obj1] = 1\n",
    "        dist_atual = float('inf')\n",
    "        for j in range(numero_de_objetos):\n",
    "            if conectados[j] == 1:\n",
    "                continue\n",
    "                \n",
    "            dist = matriz[obj1][j]\n",
    "            if dist_conhecidas[j] > dist:\n",
    "                dist_conhecidas[j] = dist\n",
    "            \n",
    "            \n",
    "            if dist_conhecidas[j] < dist_atual:\n",
    "                dist_atual = dist\n",
    "                obj2 = j\n",
    "        \n",
    "        ordem_de_agrupamento[i][0] = obj1\n",
    "        ordem_de_agrupamento[i][1] = obj2\n",
    "        ordem_de_agrupamento[i][2] = dist_atual\n",
    "        obj1 = obj2\n",
    "        \n",
    "    return ordem_de_agrupamento[np.argsort(ordem_de_agrupamento[:,2])]\n",
    "        "
   ]
  },
  {
   "cell_type": "code",
   "execution_count": 19,
   "metadata": {},
   "outputs": [],
   "source": [
    "def single_link(dataset, k_min, k_max, nome):\n",
    "    numero_de_objetos = len(dataset)\n",
    "    matriz = dist_matrix(dataset)\n",
    "    clusters = np.arange(numero_de_objetos, dtype=int)\n",
    "    \n",
    "    qtd_clusters = numero_de_objetos\n",
    "    ordem_de_agrupamento = mst_single_link(matriz, numero_de_objetos)\n",
    "    \n",
    "    for i in range(numero_de_objetos-k_min):\n",
    "        obj1 = int(ordem_de_agrupamento[i][0])\n",
    "        obj2 = int(ordem_de_agrupamento[i][1])\n",
    "        agrupar_clusters(clusters, [obj1,obj2],numero_de_objetos)\n",
    "    \n",
    "    return clusters"
   ]
  },
  {
   "cell_type": "code",
   "execution_count": null,
   "metadata": {},
   "outputs": [
    {
     "name": "stdout",
     "output_type": "stream",
     "text": [
      "Calculou distâncias 0:00:00.626335\n",
      "Passou do MST 0:00:13.565721\n",
      "Calculou distâncias 0:00:00.722617\n",
      "Passou do MST 0:00:14.119054\n",
      "Calculou distâncias 0:00:00.675359\n",
      "Passou do MST 0:00:13.475013\n",
      "Calculou distâncias 0:00:00.617271\n",
      "Passou do MST 0:00:13.403276\n",
      "Calculou distâncias 0:00:00.607371\n",
      "Passou do MST 0:00:13.386076\n",
      "Calculou distâncias 0:00:00.617382\n",
      "Passou do MST 0:00:13.490808\n",
      "Calculou distâncias 0:00:00.617442\n",
      "Passou do MST 0:00:13.666939\n",
      "Calculou distâncias 0:00:00.621750\n"
     ]
    }
   ],
   "source": [
    "%%timeit\n",
    "clusters_df3 = single_link(df3, 5, 7, 'cu')"
   ]
  },
  {
   "cell_type": "code",
   "execution_count": 24,
   "metadata": {},
   "outputs": [],
   "source": [
    "clusters_df = single_link(df, 2, 7, 'cu')"
   ]
  },
  {
   "cell_type": "code",
   "execution_count": 25,
   "metadata": {},
   "outputs": [
    {
     "data": {
      "text/plain": [
       "array([  0, 500])"
      ]
     },
     "execution_count": 25,
     "metadata": {},
     "output_type": "execute_result"
    }
   ],
   "source": [
    "pd.Series(clusters_df).unique()"
   ]
  },
  {
   "cell_type": "code",
   "execution_count": 26,
   "metadata": {},
   "outputs": [
    {
     "data": {
      "text/html": [
       "<div>\n",
       "<style scoped>\n",
       "    .dataframe tbody tr th:only-of-type {\n",
       "        vertical-align: middle;\n",
       "    }\n",
       "\n",
       "    .dataframe tbody tr th {\n",
       "        vertical-align: top;\n",
       "    }\n",
       "\n",
       "    .dataframe thead th {\n",
       "        text-align: right;\n",
       "    }\n",
       "</style>\n",
       "<table border=\"1\" class=\"dataframe\">\n",
       "  <thead>\n",
       "    <tr style=\"text-align: right;\">\n",
       "      <th></th>\n",
       "      <th>sample_label</th>\n",
       "      <th>d1</th>\n",
       "      <th>d2</th>\n",
       "      <th>clusters</th>\n",
       "    </tr>\n",
       "  </thead>\n",
       "  <tbody>\n",
       "    <tr>\n",
       "      <th>0</th>\n",
       "      <td>c2sp1s1</td>\n",
       "      <td>10.500000</td>\n",
       "      <td>9.000000</td>\n",
       "      <td>0</td>\n",
       "    </tr>\n",
       "    <tr>\n",
       "      <th>1</th>\n",
       "      <td>c2sp1s2</td>\n",
       "      <td>10.567170</td>\n",
       "      <td>9.268445</td>\n",
       "      <td>0</td>\n",
       "    </tr>\n",
       "    <tr>\n",
       "      <th>2</th>\n",
       "      <td>c2sp1s3</td>\n",
       "      <td>8.275320</td>\n",
       "      <td>11.382210</td>\n",
       "      <td>0</td>\n",
       "    </tr>\n",
       "    <tr>\n",
       "      <th>3</th>\n",
       "      <td>c2sp1s4</td>\n",
       "      <td>8.227458</td>\n",
       "      <td>11.377640</td>\n",
       "      <td>0</td>\n",
       "    </tr>\n",
       "    <tr>\n",
       "      <th>4</th>\n",
       "      <td>c2sp1s5</td>\n",
       "      <td>8.179511</td>\n",
       "      <td>11.372110</td>\n",
       "      <td>0</td>\n",
       "    </tr>\n",
       "  </tbody>\n",
       "</table>\n",
       "</div>"
      ],
      "text/plain": [
       "  sample_label         d1         d2  clusters\n",
       "0      c2sp1s1  10.500000   9.000000         0\n",
       "1      c2sp1s2  10.567170   9.268445         0\n",
       "2      c2sp1s3   8.275320  11.382210         0\n",
       "3      c2sp1s4   8.227458  11.377640         0\n",
       "4      c2sp1s5   8.179511  11.372110         0"
      ]
     },
     "execution_count": 26,
     "metadata": {},
     "output_type": "execute_result"
    }
   ],
   "source": [
    "df['clusters'] = clusters_df\n",
    "df.head()"
   ]
  },
  {
   "cell_type": "code",
   "execution_count": 27,
   "metadata": {},
   "outputs": [
    {
     "data": {
      "image/png": "[encoded data removed]",
      "text/plain": [
       "<Figure size 720x432 with 1 Axes>"
      ]
     },
     "metadata": {
      "needs_background": "light"
     },
     "output_type": "display_data"
    }
   ],
   "source": [
    "fig = plt.figure(figsize=(10,6))\n",
    "ax = fig.add_axes([0,0,1,1])\n",
    "\n",
    "cores = {0: \"red\", 500: \"blue\"}\n",
    "\n",
    "for i in [0,500]:\n",
    "    temp = df.query(f'clusters == {i}')\n",
    "    \n",
    "    plt.scatter(x=temp['d1'], y=temp['d2'], color=cores[i])"
   ]
  },
  {
   "cell_type": "code",
   "execution_count": null,
   "metadata": {},
   "outputs": [],
   "source": [
    "a = np.array([[1,2,3,0],\n",
    "              [7,0,9,0]])\n",
    "\n",
    "a[np.argsort(a[:,1])]\n"
   ]
  },
  {
   "cell_type": "code",
   "execution_count": null,
   "metadata": {},
   "outputs": [],
   "source": [
    "teste = dist_matrix(df_menor)\n",
    "teste[0][0]"
   ]
  },
  {
   "cell_type": "markdown",
   "metadata": {},
   "source": [
    "Após os testes com vetorização ainda ficou muito lento, próximos dos 30min, então fui ler sobre e descobri que a forma mais otimizada do Single Link utiliza algo semelhante ao algoritmo de Prim.\n",
    "\n",
    "[Link do artigo](http://eprints.hud.ac.uk/id/eprint/32552/1/DWD_Fmurtagh_31.pdf)\n",
    "[NN-chain](https://en.wikipedia.org/wiki/Nearest-neighbor_chain_algorithm)\n",
    "[Prim's Algorithm)https://en.wikipedia.org/wiki/Prim%27s_algorithm"
   ]
  },
  {
   "cell_type": "markdown",
   "metadata": {},
   "source": [
    "# Testes "
   ]
  },
  {
   "cell_type": "code",
   "execution_count": 9,
   "metadata": {},
   "outputs": [
    {
     "data": {
      "text/html": [
       "<div>\n",
       "<style scoped>\n",
       "    .dataframe tbody tr th:only-of-type {\n",
       "        vertical-align: middle;\n",
       "    }\n",
       "\n",
       "    .dataframe tbody tr th {\n",
       "        vertical-align: top;\n",
       "    }\n",
       "\n",
       "    .dataframe thead th {\n",
       "        text-align: right;\n",
       "    }\n",
       "</style>\n",
       "<table border=\"1\" class=\"dataframe\">\n",
       "  <thead>\n",
       "    <tr style=\"text-align: right;\">\n",
       "      <th></th>\n",
       "      <th>sample_label</th>\n",
       "      <th>d1</th>\n",
       "      <th>d2</th>\n",
       "    </tr>\n",
       "  </thead>\n",
       "  <tbody>\n",
       "    <tr>\n",
       "      <th>0</th>\n",
       "      <td>c2sp1s1</td>\n",
       "      <td>10.500000</td>\n",
       "      <td>9.000000</td>\n",
       "    </tr>\n",
       "    <tr>\n",
       "      <th>1</th>\n",
       "      <td>c2sp1s2</td>\n",
       "      <td>10.567170</td>\n",
       "      <td>9.268445</td>\n",
       "    </tr>\n",
       "    <tr>\n",
       "      <th>2</th>\n",
       "      <td>c2sp1s3</td>\n",
       "      <td>8.275320</td>\n",
       "      <td>11.382210</td>\n",
       "    </tr>\n",
       "    <tr>\n",
       "      <th>3</th>\n",
       "      <td>c2sp1s4</td>\n",
       "      <td>8.227458</td>\n",
       "      <td>11.377640</td>\n",
       "    </tr>\n",
       "    <tr>\n",
       "      <th>4</th>\n",
       "      <td>c2sp1s5</td>\n",
       "      <td>8.179511</td>\n",
       "      <td>11.372110</td>\n",
       "    </tr>\n",
       "    <tr>\n",
       "      <th>5</th>\n",
       "      <td>c2sp1s6</td>\n",
       "      <td>8.131500</td>\n",
       "      <td>11.365610</td>\n",
       "    </tr>\n",
       "    <tr>\n",
       "      <th>6</th>\n",
       "      <td>c2sp1s7</td>\n",
       "      <td>8.083443</td>\n",
       "      <td>11.358140</td>\n",
       "    </tr>\n",
       "    <tr>\n",
       "      <th>7</th>\n",
       "      <td>c2sp1s8</td>\n",
       "      <td>8.035361</td>\n",
       "      <td>11.349700</td>\n",
       "    </tr>\n",
       "    <tr>\n",
       "      <th>8</th>\n",
       "      <td>c2sp1s9</td>\n",
       "      <td>7.987270</td>\n",
       "      <td>11.340270</td>\n",
       "    </tr>\n",
       "    <tr>\n",
       "      <th>9</th>\n",
       "      <td>c2sp1s10</td>\n",
       "      <td>7.939200</td>\n",
       "      <td>11.329870</td>\n",
       "    </tr>\n",
       "  </tbody>\n",
       "</table>\n",
       "</div>"
      ],
      "text/plain": [
       "  sample_label         d1         d2\n",
       "0      c2sp1s1  10.500000   9.000000\n",
       "1      c2sp1s2  10.567170   9.268445\n",
       "2      c2sp1s3   8.275320  11.382210\n",
       "3      c2sp1s4   8.227458  11.377640\n",
       "4      c2sp1s5   8.179511  11.372110\n",
       "5      c2sp1s6   8.131500  11.365610\n",
       "6      c2sp1s7   8.083443  11.358140\n",
       "7      c2sp1s8   8.035361  11.349700\n",
       "8      c2sp1s9   7.987270  11.340270\n",
       "9     c2sp1s10   7.939200  11.329870"
      ]
     },
     "execution_count": 9,
     "metadata": {},
     "output_type": "execute_result"
    }
   ],
   "source": [
    "df_menor = df[:10].copy()\n",
    "df_menor"
   ]
  },
  {
   "cell_type": "code",
   "execution_count": 10,
   "metadata": {},
   "outputs": [
    {
     "name": "stdout",
     "output_type": "stream",
     "text": [
      "Calculou distâncias 0:00:00.002962\n",
      "Passou do MST 0:00:00.010949\n"
     ]
    }
   ],
   "source": [
    "clusters = single_link(df_menor, 2, 5, 'teste')"
   ]
  },
  {
   "cell_type": "code",
   "execution_count": 11,
   "metadata": {},
   "outputs": [
    {
     "data": {
      "text/plain": [
       "array([0, 0, 2, 2, 2, 2, 2, 2, 2, 2])"
      ]
     },
     "execution_count": 11,
     "metadata": {},
     "output_type": "execute_result"
    }
   ],
   "source": [
    "clusters"
   ]
  },
  {
   "cell_type": "code",
   "execution_count": null,
   "metadata": {},
   "outputs": [],
   "source": [
    "teste1 = distancia_euclidiana(10.5,9, df_menor['d1'], df_menor['d2'])\n",
    "teste1"
   ]
  },
  {
   "cell_type": "code",
   "execution_count": null,
   "metadata": {},
   "outputs": [],
   "source": [
    "np.arange(10, dtype=int)"
   ]
  },
  {
   "cell_type": "code",
   "execution_count": null,
   "metadata": {},
   "outputs": [],
   "source": [
    "condensed_matrix = pdist(df_menor[['d1', 'd2']])\n",
    "condensed_matrix"
   ]
  },
  {
   "cell_type": "code",
   "execution_count": null,
   "metadata": {},
   "outputs": [],
   "source": [
    "converted_condensed_matrix = squareform(pdist(df_menor[['d1', 'd2']]))\n",
    "converted_condensed_matrix"
   ]
  },
  {
   "cell_type": "code",
   "execution_count": null,
   "metadata": {},
   "outputs": [],
   "source": [
    "inicio = datetime.now()\n",
    "clusters = single_link(df3, 5, 10, 'teste')\n",
    "fim = datetime.now()"
   ]
  },
  {
   "cell_type": "markdown",
   "metadata": {},
   "source": [
    "## Difrença entre `calcular_distancia_full_optimized` x  `dist_matrix`\n",
    "Testes sobre a diferença de tempo entre calcular a matriz completa e apenas metade dela"
   ]
  },
  {
   "cell_type": "code",
   "execution_count": null,
   "metadata": {},
   "outputs": [],
   "source": [
    "%%timeit\n",
    "teste = dist_matrix(df3)\n"
   ]
  },
  {
   "cell_type": "code",
   "execution_count": null,
   "metadata": {},
   "outputs": [],
   "source": [
    "%%timeit\n",
    "\n",
    "teste = calcular_distancia_full_optimized(df3)"
   ]
  },
  {
   "cell_type": "markdown",
   "metadata": {},
   "source": [
    "O ganho de calcular a matriz inteira não é muito relevante, mas temos que considerar que ao calcular a matriz inteira ganhamos um leque muito grande de funções do ```numpy``` que devem ser adicionados as contas ao alterar a implementeção do algoritmo em si"
   ]
  },
  {
   "cell_type": "markdown",
   "metadata": {},
   "source": [
    "## Colocando inf nas distâncias entre os mesmos clusters\n",
    "\n",
    "Eu acho que a parte mais está demorando no momento é quando ele pega distâncias que pertencem ao mesmo cluster e com isso tem que realizar várias iterações até achar uma que funcione. Por isso o que vou tentar fazer é já colocar `float('inf')` nas distâncias de mesmo cluster quando ele juntar."
   ]
  },
  {
   "cell_type": "code",
   "execution_count": null,
   "metadata": {},
   "outputs": [],
   "source": [
    "matriz = dist_matrix(df_menor[:5])\n",
    "clusters = np.arange(10)\n",
    "\n",
    "matriz"
   ]
  },
  {
   "cell_type": "code",
   "execution_count": null,
   "metadata": {},
   "outputs": [],
   "source": [
    "lista = np.array([0,5,2])\n",
    "np.put(matriz, lista, float('inf'))\n",
    "matriz"
   ]
  },
  {
   "cell_type": "code",
   "execution_count": null,
   "metadata": {},
   "outputs": [],
   "source": [
    "vet1 = np.array([1,2,3,4])\n",
    "vet2 = np.array((0,0,5,3))\n",
    "\n",
    "def get_pos(u, v, num_obj):\n",
    "    return u*num_obj + v\n",
    "\n",
    "\n",
    "teste = get_pos(vet1, vet2, 5)\n",
    "teste = list(teste)\n",
    "teste"
   ]
  },
  {
   "cell_type": "code",
   "execution_count": null,
   "metadata": {},
   "outputs": [],
   "source": [
    "np.put(matriz, teste, float('inf'))\n",
    "matriz"
   ]
  },
  {
   "cell_type": "code",
   "execution_count": null,
   "metadata": {},
   "outputs": [],
   "source": [
    "def agrupar_clusters_teste(matriz, clusters, objetos, numero_de_objetos):\n",
    "    obj1, obj2 =  objetos\n",
    "    cluster1 = clusters[obj1]\n",
    "    cluster2 = clusters[obj2]\n",
    "    \n",
    "    if cluster1 == cluster2:\n",
    "        return False\n",
    "    \n",
    "    if cluster1 < cluster2:\n",
    "        menor_cluster = cluster1\n",
    "        maior_cluster = cluster2\n",
    "    else:\n",
    "        menor_cluster = cluster2\n",
    "        maior_cluster = cluster1\n",
    "        \n",
    "    pos_menor = np.array(np.where(clusters == menor_cluster))\n",
    "    pos_maior = np.array(np.where(clusters == maior_cluster))\n",
    "    \n",
    "#     print(f\"Número de objetos {numero_de_objetos}\")\n",
    "#     print(f\"Posição cluster menor {pos_menor}\")\n",
    "#     print(f\"Posição cluster maior {pos_maior}\\n\\n\")\n",
    "#     print(lista_de_indices_inf)\n",
    "    lista_de_indices_inf = criar_lista_de_indices(pos_menor[0], pos_maior[0], numero_de_objetos)\n",
    "    print(f'Lista de índices {lista_de_indices_inf}')\n",
    "    \n",
    "    np.put(matriz, lista_de_indices_inf, float('inf'))\n",
    "    \n",
    "    clusters[clusters == maior_cluster] = menor_cluster\n",
    "    return True"
   ]
  },
  {
   "cell_type": "code",
   "execution_count": null,
   "metadata": {},
   "outputs": [],
   "source": [
    "matriz = np.zeros((8,8))\n",
    "clusters = np.array([0,0,0,5,5,5,2,2], dtype=float)\n",
    "numero_de_objetos = len(clusters)\n",
    "obj1 = 5\n",
    "obj2 = 2\n",
    "\n",
    "agrupar_clusters_teste(matriz, clusters, [obj1,obj2], numero_de_objetos)"
   ]
  },
  {
   "cell_type": "code",
   "execution_count": null,
   "metadata": {},
   "outputs": [],
   "source": [
    "matriz"
   ]
  },
  {
   "cell_type": "code",
   "execution_count": null,
   "metadata": {},
   "outputs": [],
   "source": [
    "teste = sin"
   ]
  }
 ],
 "metadata": {
  "kernelspec": {
   "display_name": "Python 3",
   "language": "python",
   "name": "python3"
  },
  "language_info": {
   "codemirror_mode": {
    "name": "ipython",
    "version": 3
   },
   "file_extension": ".py",
   "mimetype": "text/x-python",
   "name": "python",
   "nbconvert_exporter": "python",
   "pygments_lexer": "ipython3",
   "version": "3.8.3"
  }
 },
 "nbformat": 4,
 "nbformat_minor": 5
}
