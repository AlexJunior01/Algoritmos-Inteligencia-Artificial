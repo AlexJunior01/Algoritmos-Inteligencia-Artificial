{
 "cells": [
  {
   "cell_type": "code",
   "execution_count": 1,
   "id": "5d82af48",
   "metadata": {},
   "outputs": [],
   "source": [
    "# Importando bibliotecas utilizadas\n",
    "import pandas as pd\n",
    "import numpy as np\n",
    "import random\n",
    "import matplotlib.pyplot as plt\n",
    "from math import sqrt, pow\n",
    "from datetime import datetime\n",
    "from time import sleep"
   ]
  },
  {
   "cell_type": "code",
   "execution_count": 2,
   "id": "b4f520b2",
   "metadata": {},
   "outputs": [
    {
     "data": {
      "text/html": [
       "<div>\n",
       "<style scoped>\n",
       "    .dataframe tbody tr th:only-of-type {\n",
       "        vertical-align: middle;\n",
       "    }\n",
       "\n",
       "    .dataframe tbody tr th {\n",
       "        vertical-align: top;\n",
       "    }\n",
       "\n",
       "    .dataframe thead th {\n",
       "        text-align: right;\n",
       "    }\n",
       "</style>\n",
       "<table border=\"1\" class=\"dataframe\">\n",
       "  <thead>\n",
       "    <tr style=\"text-align: right;\">\n",
       "      <th></th>\n",
       "      <th>sample_label</th>\n",
       "      <th>d1</th>\n",
       "      <th>d2</th>\n",
       "    </tr>\n",
       "  </thead>\n",
       "  <tbody>\n",
       "    <tr>\n",
       "      <th>0</th>\n",
       "      <td>c2sp1s1</td>\n",
       "      <td>10.500000</td>\n",
       "      <td>9.000000</td>\n",
       "    </tr>\n",
       "    <tr>\n",
       "      <th>1</th>\n",
       "      <td>c2sp1s2</td>\n",
       "      <td>10.567170</td>\n",
       "      <td>9.268445</td>\n",
       "    </tr>\n",
       "    <tr>\n",
       "      <th>2</th>\n",
       "      <td>c2sp1s3</td>\n",
       "      <td>8.275320</td>\n",
       "      <td>11.382210</td>\n",
       "    </tr>\n",
       "    <tr>\n",
       "      <th>3</th>\n",
       "      <td>c2sp1s4</td>\n",
       "      <td>8.227458</td>\n",
       "      <td>11.377640</td>\n",
       "    </tr>\n",
       "    <tr>\n",
       "      <th>4</th>\n",
       "      <td>c2sp1s5</td>\n",
       "      <td>8.179511</td>\n",
       "      <td>11.372110</td>\n",
       "    </tr>\n",
       "  </tbody>\n",
       "</table>\n",
       "</div>"
      ],
      "text/plain": [
       "  sample_label         d1         d2\n",
       "0      c2sp1s1  10.500000   9.000000\n",
       "1      c2sp1s2  10.567170   9.268445\n",
       "2      c2sp1s3   8.275320  11.382210\n",
       "3      c2sp1s4   8.227458  11.377640\n",
       "4      c2sp1s5   8.179511  11.372110"
      ]
     },
     "execution_count": 2,
     "metadata": {},
     "output_type": "execute_result"
    }
   ],
   "source": [
    "df = pd.read_csv('datasets/c2ds1-2sp.txt', sep='\\t')\n",
    "df.head()"
   ]
  },
  {
   "cell_type": "code",
   "execution_count": 3,
   "id": "846e3296",
   "metadata": {},
   "outputs": [
    {
     "data": {
      "text/html": [
       "<div>\n",
       "<style scoped>\n",
       "    .dataframe tbody tr th:only-of-type {\n",
       "        vertical-align: middle;\n",
       "    }\n",
       "\n",
       "    .dataframe tbody tr th {\n",
       "        vertical-align: top;\n",
       "    }\n",
       "\n",
       "    .dataframe thead th {\n",
       "        text-align: right;\n",
       "    }\n",
       "</style>\n",
       "<table border=\"1\" class=\"dataframe\">\n",
       "  <thead>\n",
       "    <tr style=\"text-align: right;\">\n",
       "      <th></th>\n",
       "      <th>identificador</th>\n",
       "      <th>d1</th>\n",
       "      <th>d2</th>\n",
       "    </tr>\n",
       "  </thead>\n",
       "  <tbody>\n",
       "    <tr>\n",
       "      <th>0</th>\n",
       "      <td>monkeyc1g1s1</td>\n",
       "      <td>8.809783</td>\n",
       "      <td>7.611147</td>\n",
       "    </tr>\n",
       "    <tr>\n",
       "      <th>1</th>\n",
       "      <td>monkeyc1g1s2</td>\n",
       "      <td>4.110747</td>\n",
       "      <td>11.103186</td>\n",
       "    </tr>\n",
       "    <tr>\n",
       "      <th>2</th>\n",
       "      <td>monkeyc1g1s3</td>\n",
       "      <td>4.114710</td>\n",
       "      <td>11.039587</td>\n",
       "    </tr>\n",
       "    <tr>\n",
       "      <th>3</th>\n",
       "      <td>monkeyc1g1s4</td>\n",
       "      <td>3.154736</td>\n",
       "      <td>6.743244</td>\n",
       "    </tr>\n",
       "    <tr>\n",
       "      <th>4</th>\n",
       "      <td>monkeyc1g1s5</td>\n",
       "      <td>5.972931</td>\n",
       "      <td>7.537982</td>\n",
       "    </tr>\n",
       "  </tbody>\n",
       "</table>\n",
       "</div>"
      ],
      "text/plain": [
       "  identificador        d1         d2\n",
       "0  monkeyc1g1s1  8.809783   7.611147\n",
       "1  monkeyc1g1s2  4.110747  11.103186\n",
       "2  monkeyc1g1s3  4.114710  11.039587\n",
       "3  monkeyc1g1s4  3.154736   6.743244\n",
       "4  monkeyc1g1s5  5.972931   7.537982"
      ]
     },
     "execution_count": 3,
     "metadata": {},
     "output_type": "execute_result"
    }
   ],
   "source": [
    "df3 = pd.read_csv('datasets/monkey.txt', sep='\\t')\n",
    "df3.columns = ['identificador','d1', 'd2']\n",
    "df3.head()"
   ]
  },
  {
   "cell_type": "markdown",
   "id": "90adeb46",
   "metadata": {},
   "source": [
    "# Algoritmo"
   ]
  },
  {
   "cell_type": "code",
   "execution_count": 4,
   "id": "3435669d",
   "metadata": {},
   "outputs": [],
   "source": [
    "#Distancia Euclidiana\n",
    "# Mudei a forma como é calculado para poder utilizar vetorização\n",
    "def distancia_euclidiana(x1, y1, x2, y2):\n",
    "    X = x1 - x2\n",
    "    Y = y1 - y2\n",
    "    \n",
    "    X = X*X\n",
    "    Y = Y*Y\n",
    "    \n",
    "    distancia = np.sqrt(X+Y)\n",
    "    return distancia"
   ]
  },
  {
   "cell_type": "code",
   "execution_count": 5,
   "id": "dba07c55",
   "metadata": {},
   "outputs": [],
   "source": [
    "def calcular_distancia_full_optimized(df):\n",
    "    lista = []\n",
    "    for i, row in df.iterrows():\n",
    "        distancias = distancia_euclidiana(row['d1'], row['d2'], df[i+1:]['d1'].values, df[i+1:]['d2'].values)\n",
    "        \n",
    "        lista.append(distancias)\n",
    "      \n",
    "    return lista"
   ]
  },
  {
   "cell_type": "code",
   "execution_count": 6,
   "id": "4b4edd88",
   "metadata": {},
   "outputs": [],
   "source": [
    "def dist_matrix(df):\n",
    "    lista = []\n",
    "    for i, row in df.iterrows():\n",
    "        distancias = distancia_euclidiana(row['d1'], row['d2'], df['d1'].values, df['d2'].values)\n",
    "\n",
    "        lista.append(distancias)\n",
    "    \n",
    "    matrix = np.matrix(lista)\n",
    "    np.fill_diagonal(matrix, float('inf'))\n",
    "    return matrix"
   ]
  },
  {
   "cell_type": "code",
   "execution_count": 7,
   "id": "5da19d0b",
   "metadata": {},
   "outputs": [],
   "source": [
    "def agrupar_clusters(clusters, objetos):\n",
    "    obj1, obj2 =  objetos\n",
    "    cluster1 = clusters[obj1]\n",
    "    cluster2 = clusters[obj2]\n",
    "    \n",
    "    if cluster1 == cluster2:\n",
    "        return False\n",
    "    \n",
    "    if cluster1 < cluster2:\n",
    "        menor = cluster1\n",
    "        maior = cluster2\n",
    "    else:\n",
    "        menor = cluster2\n",
    "        maior = cluster1\n",
    "        \n",
    "    clusters[clusters == maior] = menor\n",
    "    return True"
   ]
  },
  {
   "cell_type": "code",
   "execution_count": 8,
   "id": "78e2ee93",
   "metadata": {},
   "outputs": [],
   "source": [
    "def single_link(dataset, k_min, k_max, nome):\n",
    "    numero_de_objetos = len(dataset)\n",
    "    matrix = dist_matrix(dataset)\n",
    "    clusters = np.arange(numero_de_objetos)\n",
    "    \n",
    "    qtd_clusters = numero_de_objetos\n",
    "    while qtd_clusters > k_min:\n",
    "        objetos = matrix.argmin()\n",
    "        i = objetos // numero_de_objetos\n",
    "        j = objetos % numero_de_objetos\n",
    "        matrix[i,j] = float('inf')\n",
    "        matrix[j,i] = float('inf')\n",
    "        \n",
    "        if agrupar_clusters(clusters, [i,j]):\n",
    "            qtd_clusters -= 1\n",
    "    \n",
    "    return clusters"
   ]
  },
  {
   "cell_type": "markdown",
   "id": "c35c3f4d",
   "metadata": {},
   "source": [
    "# Testes "
   ]
  },
  {
   "cell_type": "code",
   "execution_count": 9,
   "id": "f2012478",
   "metadata": {},
   "outputs": [
    {
     "data": {
      "text/html": [
       "<div>\n",
       "<style scoped>\n",
       "    .dataframe tbody tr th:only-of-type {\n",
       "        vertical-align: middle;\n",
       "    }\n",
       "\n",
       "    .dataframe tbody tr th {\n",
       "        vertical-align: top;\n",
       "    }\n",
       "\n",
       "    .dataframe thead th {\n",
       "        text-align: right;\n",
       "    }\n",
       "</style>\n",
       "<table border=\"1\" class=\"dataframe\">\n",
       "  <thead>\n",
       "    <tr style=\"text-align: right;\">\n",
       "      <th></th>\n",
       "      <th>sample_label</th>\n",
       "      <th>d1</th>\n",
       "      <th>d2</th>\n",
       "    </tr>\n",
       "  </thead>\n",
       "  <tbody>\n",
       "    <tr>\n",
       "      <th>0</th>\n",
       "      <td>c2sp1s1</td>\n",
       "      <td>10.500000</td>\n",
       "      <td>9.000000</td>\n",
       "    </tr>\n",
       "    <tr>\n",
       "      <th>1</th>\n",
       "      <td>c2sp1s2</td>\n",
       "      <td>10.567170</td>\n",
       "      <td>9.268445</td>\n",
       "    </tr>\n",
       "    <tr>\n",
       "      <th>2</th>\n",
       "      <td>c2sp1s3</td>\n",
       "      <td>8.275320</td>\n",
       "      <td>11.382210</td>\n",
       "    </tr>\n",
       "    <tr>\n",
       "      <th>3</th>\n",
       "      <td>c2sp1s4</td>\n",
       "      <td>8.227458</td>\n",
       "      <td>11.377640</td>\n",
       "    </tr>\n",
       "    <tr>\n",
       "      <th>4</th>\n",
       "      <td>c2sp1s5</td>\n",
       "      <td>8.179511</td>\n",
       "      <td>11.372110</td>\n",
       "    </tr>\n",
       "    <tr>\n",
       "      <th>5</th>\n",
       "      <td>c2sp1s6</td>\n",
       "      <td>8.131500</td>\n",
       "      <td>11.365610</td>\n",
       "    </tr>\n",
       "    <tr>\n",
       "      <th>6</th>\n",
       "      <td>c2sp1s7</td>\n",
       "      <td>8.083443</td>\n",
       "      <td>11.358140</td>\n",
       "    </tr>\n",
       "    <tr>\n",
       "      <th>7</th>\n",
       "      <td>c2sp1s8</td>\n",
       "      <td>8.035361</td>\n",
       "      <td>11.349700</td>\n",
       "    </tr>\n",
       "    <tr>\n",
       "      <th>8</th>\n",
       "      <td>c2sp1s9</td>\n",
       "      <td>7.987270</td>\n",
       "      <td>11.340270</td>\n",
       "    </tr>\n",
       "    <tr>\n",
       "      <th>9</th>\n",
       "      <td>c2sp1s10</td>\n",
       "      <td>7.939200</td>\n",
       "      <td>11.329870</td>\n",
       "    </tr>\n",
       "  </tbody>\n",
       "</table>\n",
       "</div>"
      ],
      "text/plain": [
       "  sample_label         d1         d2\n",
       "0      c2sp1s1  10.500000   9.000000\n",
       "1      c2sp1s2  10.567170   9.268445\n",
       "2      c2sp1s3   8.275320  11.382210\n",
       "3      c2sp1s4   8.227458  11.377640\n",
       "4      c2sp1s5   8.179511  11.372110\n",
       "5      c2sp1s6   8.131500  11.365610\n",
       "6      c2sp1s7   8.083443  11.358140\n",
       "7      c2sp1s8   8.035361  11.349700\n",
       "8      c2sp1s9   7.987270  11.340270\n",
       "9     c2sp1s10   7.939200  11.329870"
      ]
     },
     "execution_count": 9,
     "metadata": {},
     "output_type": "execute_result"
    }
   ],
   "source": [
    "df_menor = df[:10].copy()\n",
    "df_menor"
   ]
  },
  {
   "cell_type": "code",
   "execution_count": 10,
   "id": "0d022405",
   "metadata": {},
   "outputs": [],
   "source": [
    "clusters = single_link(df_menor, 2, 5, 'teste')"
   ]
  },
  {
   "cell_type": "code",
   "execution_count": 11,
   "id": "bc7d0e43",
   "metadata": {},
   "outputs": [
    {
     "data": {
      "text/plain": [
       "array([0, 0, 2, 2, 2, 2, 2, 2, 2, 2])"
      ]
     },
     "execution_count": 11,
     "metadata": {},
     "output_type": "execute_result"
    }
   ],
   "source": [
    "clusters"
   ]
  },
  {
   "cell_type": "markdown",
   "id": "87e69599",
   "metadata": {},
   "source": [
    "## Difrença entre `calcular_distancia_full_optimized` x  `dist_matrix`\n",
    "Testes sobre a diferença de tempo entre calcular a matriz completa e apenas metade dela"
   ]
  },
  {
   "cell_type": "code",
   "execution_count": 13,
   "id": "59306441",
   "metadata": {},
   "outputs": [
    {
     "name": "stdout",
     "output_type": "stream",
     "text": [
      "451 ms ± 10.6 ms per loop (mean ± std. dev. of 7 runs, 1 loop each)\n"
     ]
    }
   ],
   "source": [
    "%%timeit\n",
    "teste = dist_matrix(df3)\n"
   ]
  },
  {
   "cell_type": "code",
   "execution_count": 10,
   "id": "be8a3d33",
   "metadata": {},
   "outputs": [
    {
     "name": "stdout",
     "output_type": "stream",
     "text": [
      "1.14 s ± 48.1 ms per loop (mean ± std. dev. of 7 runs, 1 loop each)\n"
     ]
    }
   ],
   "source": [
    "%%timeit\n",
    "\n",
    "teste = calcular_distancia_full_optimized(df3)"
   ]
  },
  {
   "cell_type": "markdown",
   "id": "46e6f003",
   "metadata": {},
   "source": [
    "O ganho de calcular a matriz inteira não é muito relevante, mas temos que considerar que ao calcular a matriz inteira ganhamos um leque muito grande de funções do ```numpy``` que devem ser adicionados as contas ao alterar a implementeção do algoritmo em si"
   ]
  },
  {
   "cell_type": "markdown",
   "id": "5c42d497",
   "metadata": {},
   "source": [
    "## Colocando inf nas distâncias entre os mesmos clusters\n",
    "\n",
    "Eu acho que a parte mais está demorando no momento é quando ele pega distâncias que pertencem ao mesmo cluster e com isso tem que realizar várias iterações até achar uma que funcione. Por isso o que vou tentar fazer é já colocar `float('inf')` nas distâncias de mesmo cluster quando ele juntar."
   ]
  },
  {
   "cell_type": "code",
   "execution_count": null,
   "id": "b397c9a9",
   "metadata": {},
   "outputs": [],
   "source": [
    "2-1\n",
    "2-1\n",
    "10-1"
   ]
  },
  {
   "cell_type": "code",
   "execution_count": 82,
   "id": "3b688df9",
   "metadata": {},
   "outputs": [
    {
     "data": {
      "text/plain": [
       "matrix([[       inf, 0.27672103, 3.25946707, 3.28901492, 3.31836934],\n",
       "        [0.27672103,        inf, 3.11778429, 3.15007235, 3.18218823],\n",
       "        [3.25946707, 3.11778429,        inf, 0.04807968, 0.09633989],\n",
       "        [3.28901492, 3.15007235, 0.04807968,        inf, 0.04826485],\n",
       "        [3.31836934, 3.18218823, 0.09633989, 0.04826485,        inf]])"
      ]
     },
     "execution_count": 82,
     "metadata": {},
     "output_type": "execute_result"
    }
   ],
   "source": [
    "matriz = dist_matrix(df_menor[:5])\n",
    "clusters = np.arange(10)\n",
    "\n",
    "matriz"
   ]
  },
  {
   "cell_type": "code",
   "execution_count": 18,
   "id": "ee928afb",
   "metadata": {},
   "outputs": [
    {
     "name": "stdout",
     "output_type": "stream",
     "text": [
      "inf\n",
      "3.214123424220825\n",
      "3.214123424220825\n"
     ]
    }
   ],
   "source": [
    "lista = [[0,0], [1,5], [5,1]]\n",
    "\n",
    "for i,j in lista:\n",
    "    print(matriz[i,j])"
   ]
  },
  {
   "cell_type": "code",
   "execution_count": null,
   "id": "92ee75eb",
   "metadata": {},
   "outputs": [],
   "source": [
    "vetor = np.arange(10)\n",
    "vetor"
   ]
  },
  {
   "cell_type": "code",
   "execution_count": 78,
   "id": "7731af0d",
   "metadata": {},
   "outputs": [],
   "source": [
    "np.put(matriz, [[0,5,2]], [40])"
   ]
  },
  {
   "cell_type": "code",
   "execution_count": 79,
   "id": "ce765911",
   "metadata": {},
   "outputs": [
    {
     "data": {
      "text/plain": [
       "matrix([[40.        ,  0.27672103, 40.        ,  3.28901492,  3.31836934],\n",
       "        [40.        ,         inf,  3.11778429,  3.15007235,  3.18218823],\n",
       "        [ 3.25946707,  3.11778429,         inf,  0.04807968,  0.09633989],\n",
       "        [ 3.28901492,  3.15007235,  0.04807968,         inf,  0.04826485],\n",
       "        [ 3.31836934,  3.18218823,  0.09633989,  0.04826485,         inf]])"
      ]
     },
     "execution_count": 79,
     "metadata": {},
     "output_type": "execute_result"
    }
   ],
   "source": [
    "matriz"
   ]
  },
  {
   "cell_type": "code",
   "execution_count": 65,
   "id": "5cb91e29",
   "metadata": {},
   "outputs": [
    {
     "data": {
      "text/plain": [
       "array([ 5, 10, 20, 23])"
      ]
     },
     "execution_count": 65,
     "metadata": {},
     "output_type": "execute_result"
    }
   ],
   "source": [
    "vet1 = np.array([1,2,3,4])\n",
    "vet2 = np.array([0,0,5,3])\n",
    "\n",
    "def get_pos(u, v, num_obj):\n",
    "    return u*num_obj + v\n",
    "\n",
    "\n",
    "teste = get_pos(vet1, vet2, 5)\n",
    "(li)"
   ]
  },
  {
   "cell_type": "code",
   "execution_count": 83,
   "id": "a34ebe1a",
   "metadata": {},
   "outputs": [],
   "source": [
    "np.put(matriz, teste, [58])\n"
   ]
  },
  {
   "cell_type": "code",
   "execution_count": 84,
   "id": "c283bcff",
   "metadata": {},
   "outputs": [
    {
     "data": {
      "text/plain": [
       "matrix([[           inf, 2.76721027e-01, 3.25946707e+00, 3.28901492e+00,\n",
       "         3.31836934e+00],\n",
       "        [5.80000000e+01,            inf, 3.11778429e+00, 3.15007235e+00,\n",
       "         3.18218823e+00],\n",
       "        [5.80000000e+01, 3.11778429e+00,            inf, 4.80796833e-02,\n",
       "         9.63398904e-02],\n",
       "        [3.28901492e+00, 3.15007235e+00, 4.80796833e-02,            inf,\n",
       "         4.82648496e-02],\n",
       "        [5.80000000e+01, 3.18218823e+00, 9.63398904e-02, 5.80000000e+01,\n",
       "                    inf]])"
      ]
     },
     "execution_count": 84,
     "metadata": {},
     "output_type": "execute_result"
    }
   ],
   "source": [
    "matriz"
   ]
  },
  {
   "cell_type": "code",
   "execution_count": null,
   "id": "6e7c3fc4",
   "metadata": {},
   "outputs": [],
   "source": []
  },
  {
   "cell_type": "code",
   "execution_count": null,
   "id": "8f8e8efc",
   "metadata": {},
   "outputs": [],
   "source": []
  }
 ],
 "metadata": {
  "kernelspec": {
   "display_name": "Python 3",
   "language": "python",
   "name": "python3"
  },
  "language_info": {
   "codemirror_mode": {
    "name": "ipython",
    "version": 3
   },
   "file_extension": ".py",
   "mimetype": "text/x-python",
   "name": "python",
   "nbconvert_exporter": "python",
   "pygments_lexer": "ipython3",
   "version": "3.9.4"
  }
 },
 "nbformat": 4,
 "nbformat_minor": 5
}
