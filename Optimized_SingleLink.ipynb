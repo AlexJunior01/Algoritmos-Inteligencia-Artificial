{
 "cells": [
  {
   "cell_type": "code",
   "execution_count": 1,
   "id": "5d82af48",
   "metadata": {},
   "outputs": [],
   "source": [
    "# Importando bibliotecas utilizadas\n",
    "import pandas as pd\n",
    "import numpy as np\n",
    "import random\n",
    "import matplotlib.pyplot as plt\n",
    "from math import sqrt, pow\n",
    "from datetime import datetime\n",
    "from time import sleep"
   ]
  },
  {
   "cell_type": "code",
   "execution_count": 2,
   "id": "f7519737",
   "metadata": {},
   "outputs": [],
   "source": [
    "from scipy.spatial.distance import pdist, squareform"
   ]
  },
  {
   "cell_type": "code",
   "execution_count": 3,
   "id": "b4f520b2",
   "metadata": {},
   "outputs": [
    {
     "data": {
      "text/html": [
       "<div>\n",
       "<style scoped>\n",
       "    .dataframe tbody tr th:only-of-type {\n",
       "        vertical-align: middle;\n",
       "    }\n",
       "\n",
       "    .dataframe tbody tr th {\n",
       "        vertical-align: top;\n",
       "    }\n",
       "\n",
       "    .dataframe thead th {\n",
       "        text-align: right;\n",
       "    }\n",
       "</style>\n",
       "<table border=\"1\" class=\"dataframe\">\n",
       "  <thead>\n",
       "    <tr style=\"text-align: right;\">\n",
       "      <th></th>\n",
       "      <th>sample_label</th>\n",
       "      <th>d1</th>\n",
       "      <th>d2</th>\n",
       "    </tr>\n",
       "  </thead>\n",
       "  <tbody>\n",
       "    <tr>\n",
       "      <th>0</th>\n",
       "      <td>c2sp1s1</td>\n",
       "      <td>10.500000</td>\n",
       "      <td>9.000000</td>\n",
       "    </tr>\n",
       "    <tr>\n",
       "      <th>1</th>\n",
       "      <td>c2sp1s2</td>\n",
       "      <td>10.567170</td>\n",
       "      <td>9.268445</td>\n",
       "    </tr>\n",
       "    <tr>\n",
       "      <th>2</th>\n",
       "      <td>c2sp1s3</td>\n",
       "      <td>8.275320</td>\n",
       "      <td>11.382210</td>\n",
       "    </tr>\n",
       "    <tr>\n",
       "      <th>3</th>\n",
       "      <td>c2sp1s4</td>\n",
       "      <td>8.227458</td>\n",
       "      <td>11.377640</td>\n",
       "    </tr>\n",
       "    <tr>\n",
       "      <th>4</th>\n",
       "      <td>c2sp1s5</td>\n",
       "      <td>8.179511</td>\n",
       "      <td>11.372110</td>\n",
       "    </tr>\n",
       "  </tbody>\n",
       "</table>\n",
       "</div>"
      ],
      "text/plain": [
       "  sample_label         d1         d2\n",
       "0      c2sp1s1  10.500000   9.000000\n",
       "1      c2sp1s2  10.567170   9.268445\n",
       "2      c2sp1s3   8.275320  11.382210\n",
       "3      c2sp1s4   8.227458  11.377640\n",
       "4      c2sp1s5   8.179511  11.372110"
      ]
     },
     "execution_count": 3,
     "metadata": {},
     "output_type": "execute_result"
    }
   ],
   "source": [
    "df = pd.read_csv('datasets/c2ds1-2sp.txt', sep='\\t')\n",
    "df.head()"
   ]
  },
  {
   "cell_type": "code",
   "execution_count": 4,
   "id": "846e3296",
   "metadata": {},
   "outputs": [
    {
     "data": {
      "text/html": [
       "<div>\n",
       "<style scoped>\n",
       "    .dataframe tbody tr th:only-of-type {\n",
       "        vertical-align: middle;\n",
       "    }\n",
       "\n",
       "    .dataframe tbody tr th {\n",
       "        vertical-align: top;\n",
       "    }\n",
       "\n",
       "    .dataframe thead th {\n",
       "        text-align: right;\n",
       "    }\n",
       "</style>\n",
       "<table border=\"1\" class=\"dataframe\">\n",
       "  <thead>\n",
       "    <tr style=\"text-align: right;\">\n",
       "      <th></th>\n",
       "      <th>identificador</th>\n",
       "      <th>d1</th>\n",
       "      <th>d2</th>\n",
       "    </tr>\n",
       "  </thead>\n",
       "  <tbody>\n",
       "    <tr>\n",
       "      <th>0</th>\n",
       "      <td>monkeyc1g1s1</td>\n",
       "      <td>8.809783</td>\n",
       "      <td>7.611147</td>\n",
       "    </tr>\n",
       "    <tr>\n",
       "      <th>1</th>\n",
       "      <td>monkeyc1g1s2</td>\n",
       "      <td>4.110747</td>\n",
       "      <td>11.103186</td>\n",
       "    </tr>\n",
       "    <tr>\n",
       "      <th>2</th>\n",
       "      <td>monkeyc1g1s3</td>\n",
       "      <td>4.114710</td>\n",
       "      <td>11.039587</td>\n",
       "    </tr>\n",
       "    <tr>\n",
       "      <th>3</th>\n",
       "      <td>monkeyc1g1s4</td>\n",
       "      <td>3.154736</td>\n",
       "      <td>6.743244</td>\n",
       "    </tr>\n",
       "    <tr>\n",
       "      <th>4</th>\n",
       "      <td>monkeyc1g1s5</td>\n",
       "      <td>5.972931</td>\n",
       "      <td>7.537982</td>\n",
       "    </tr>\n",
       "  </tbody>\n",
       "</table>\n",
       "</div>"
      ],
      "text/plain": [
       "  identificador        d1         d2\n",
       "0  monkeyc1g1s1  8.809783   7.611147\n",
       "1  monkeyc1g1s2  4.110747  11.103186\n",
       "2  monkeyc1g1s3  4.114710  11.039587\n",
       "3  monkeyc1g1s4  3.154736   6.743244\n",
       "4  monkeyc1g1s5  5.972931   7.537982"
      ]
     },
     "execution_count": 4,
     "metadata": {},
     "output_type": "execute_result"
    }
   ],
   "source": [
    "df3 = pd.read_csv('datasets/monkey.txt', sep='\\t')\n",
    "df3.columns = ['identificador','d1', 'd2']\n",
    "df3.head()"
   ]
  },
  {
   "cell_type": "markdown",
   "id": "90adeb46",
   "metadata": {},
   "source": [
    "# Algoritmo"
   ]
  },
  {
   "cell_type": "code",
   "execution_count": 5,
   "id": "3435669d",
   "metadata": {},
   "outputs": [],
   "source": [
    "#Distancia Euclidiana\n",
    "# Mudei a forma como é calculado para poder utilizar vetorização\n",
    "def distancia_euclidiana(x1, y1, x2, y2):\n",
    "    X = x1 - x2\n",
    "    Y = y1 - y2\n",
    "    \n",
    "    X = X*X\n",
    "    Y = Y*Y\n",
    "    \n",
    "    distancia = np.sqrt(X+Y)\n",
    "    return distancia"
   ]
  },
  {
   "cell_type": "code",
   "execution_count": 6,
   "id": "dba07c55",
   "metadata": {},
   "outputs": [],
   "source": [
    "def calcular_distancia_full_optimized(df):\n",
    "    lista = []\n",
    "    for i, row in df.iterrows():\n",
    "        distancias = distancia_euclidiana(row['d1'], row['d2'], df[i+1:]['d1'].values, df[i+1:]['d2'].values)\n",
    "        \n",
    "        lista.append(distancias)\n",
    "      \n",
    "    return lista"
   ]
  },
  {
   "cell_type": "code",
   "execution_count": 7,
   "id": "4b4edd88",
   "metadata": {},
   "outputs": [],
   "source": [
    "def dist_matrix(df):\n",
    "    lista = []\n",
    "    for i, row in df.iterrows():\n",
    "        distancias = distancia_euclidiana(row['d1'], row['d2'], df['d1'].values, df['d2'].values)\n",
    "\n",
    "        lista.append(distancias)\n",
    "    \n",
    "    matrix = np.matrix(lista)\n",
    "    np.fill_diagonal(matrix, float('inf'))\n",
    "    return matrix"
   ]
  },
  {
   "cell_type": "code",
   "execution_count": null,
   "id": "cec604a9",
   "metadata": {},
   "outputs": [],
   "source": [
    "def get_pos(u, v, num_obj):\n",
    "    return u*num_obj + v"
   ]
  },
  {
   "cell_type": "code",
   "execution_count": null,
   "id": "a44b7349",
   "metadata": {},
   "outputs": [],
   "source": [
    "def criar_lista_de_indices(pos_menor, pos_maior, numero_de_objetos):\n",
    "    lista = np.array([], dtype=int)\n",
    "    for i in pos_menor:\n",
    "        aux = get_pos(i, pos_maior, numero_de_objetos)\n",
    "        lista = np.concatenate((lista,aux))\n",
    "        \n",
    "    return lista"
   ]
  },
  {
   "cell_type": "code",
   "execution_count": null,
   "id": "5da19d0b",
   "metadata": {},
   "outputs": [],
   "source": [
    "def agrupar_clusters(matriz, clusters, objetos, numero_de_objetos):\n",
    "    obj1, obj2 =  objetos\n",
    "    cluster1 = clusters[obj1]\n",
    "    cluster2 = clusters[obj2]\n",
    "    \n",
    "    if cluster1 == cluster2:\n",
    "        return False\n",
    "    \n",
    "    if cluster1 < cluster2:\n",
    "        menor_cluster = cluster1\n",
    "        maior_cluster = cluster2\n",
    "    else:\n",
    "        menor_cluster = cluster2\n",
    "        maior_cluster = cluster1\n",
    "        \n",
    "    pos_menor = np.array(np.where(clusters == menor_cluster))\n",
    "    pos_maior = np.array(np.where(clusters == maior_cluster))\n",
    "    \n",
    "#     print(f\"Número de objetos {numero_de_objetos}\")\n",
    "#     print(f\"Posição cluster menor {pos_menor}\")\n",
    "#     print(f\"Posição cluster maior {pos_maior}\\n\\n\")\n",
    "#     print(lista_de_indices_inf)\n",
    "    lista_de_indices_inf = criar_lista_de_indices(pos_menor[0], pos_maior[0], numero_de_objetos)\n",
    "#     print(f'Lista de índices {lista_de_indices_inf}')\n",
    "    \n",
    "    np.put(matriz, lista_de_indices_inf, float('inf'))\n",
    "    \n",
    "    clusters[clusters == maior_cluster] = menor_cluster\n",
    "    return True"
   ]
  },
  {
   "cell_type": "code",
   "execution_count": null,
   "id": "78e2ee93",
   "metadata": {},
   "outputs": [],
   "source": [
    "def single_link(dataset, k_min, k_max, nome):\n",
    "    numero_de_objetos = len(dataset)\n",
    "    matrix = dist_matrix(dataset)\n",
    "    clusters = np.arange(numero_de_objetos)\n",
    "    \n",
    "    qtd_clusters = numero_de_objetos\n",
    "    while qtd_clusters > k_min:\n",
    "        objetos = matrix.argmin()\n",
    "        i = objetos // numero_de_objetos\n",
    "        j = objetos % numero_de_objetos\n",
    "        matrix[i,j] = float('inf')\n",
    "        matrix[j,i] = float('inf')\n",
    "        \n",
    "        if agrupar_clusters(matrix, clusters, [i,j], numero_de_objetos):\n",
    "            if qtd_clusters % 100 == 0:\n",
    "                print(qtd_clusters)\n",
    "            qtd_clusters -= 1\n",
    "    \n",
    "    return clusters"
   ]
  },
  {
   "cell_type": "markdown",
   "id": "108bd1ec",
   "metadata": {},
   "source": [
    "# MST"
   ]
  },
  {
   "cell_type": "markdown",
   "id": "cb52cbfb",
   "metadata": {},
   "source": [
    "Após os testes com vetorização ainda ficou muito lento, próximos dos 30min, então fui ler sobre e descobri que a forma mais otimizada do Single Link utiliza algo semelhante ao algoritmo de Prim.\n",
    "\n",
    "[Link do artigo](http://eprints.hud.ac.uk/id/eprint/32552/1/DWD_Fmurtagh_31.pdf)\n",
    "[NN-chain](https://en.wikipedia.org/wiki/Nearest-neighbor_chain_algorithm)\n",
    "[Prim's Algorithm)https://en.wikipedia.org/wiki/Prim%27s_algorithm"
   ]
  },
  {
   "cell_type": "markdown",
   "id": "c35c3f4d",
   "metadata": {},
   "source": [
    "# Testes "
   ]
  },
  {
   "cell_type": "code",
   "execution_count": null,
   "id": "f2012478",
   "metadata": {},
   "outputs": [],
   "source": [
    "df_menor = df[:10].copy()\n",
    "df_menor"
   ]
  },
  {
   "cell_type": "code",
   "execution_count": null,
   "id": "0d022405",
   "metadata": {},
   "outputs": [],
   "source": [
    "clusters = single_link(df_menor, 2, 5, 'teste')"
   ]
  },
  {
   "cell_type": "code",
   "execution_count": null,
   "id": "92146f35",
   "metadata": {},
   "outputs": [],
   "source": [
    "teste1 = distancia_euclidiana(10.5,9, df_menor['d1'], df_menor['d2'])\n",
    "teste1"
   ]
  },
  {
   "cell_type": "code",
   "execution_count": null,
   "id": "85c9cc84",
   "metadata": {},
   "outputs": [],
   "source": [
    "condensed_matrix = pdist(df_menor[['d1', 'd2']])\n",
    "condensed_matrix"
   ]
  },
  {
   "cell_type": "code",
   "execution_count": null,
   "id": "f2bcb615",
   "metadata": {},
   "outputs": [],
   "source": [
    "converted_condensed_matrix = squareform(pdist(df_menor[['d1', 'd2']]))\n",
    "converted_condensed_matrix"
   ]
  },
  {
   "cell_type": "code",
   "execution_count": null,
   "id": "bc7d0e43",
   "metadata": {},
   "outputs": [],
   "source": [
    "inicio = datetime.now()\n",
    "clusters = single_link(df3, 5, 10, 'teste')\n",
    "fim = datetime.now()"
   ]
  },
  {
   "cell_type": "markdown",
   "id": "87e69599",
   "metadata": {},
   "source": [
    "## Difrença entre `calcular_distancia_full_optimized` x  `dist_matrix`\n",
    "Testes sobre a diferença de tempo entre calcular a matriz completa e apenas metade dela"
   ]
  },
  {
   "cell_type": "code",
   "execution_count": null,
   "id": "59306441",
   "metadata": {},
   "outputs": [],
   "source": [
    "%%timeit\n",
    "teste = dist_matrix(df3)\n"
   ]
  },
  {
   "cell_type": "code",
   "execution_count": null,
   "id": "be8a3d33",
   "metadata": {},
   "outputs": [],
   "source": [
    "%%timeit\n",
    "\n",
    "teste = calcular_distancia_full_optimized(df3)"
   ]
  },
  {
   "cell_type": "markdown",
   "id": "46e6f003",
   "metadata": {},
   "source": [
    "O ganho de calcular a matriz inteira não é muito relevante, mas temos que considerar que ao calcular a matriz inteira ganhamos um leque muito grande de funções do ```numpy``` que devem ser adicionados as contas ao alterar a implementeção do algoritmo em si"
   ]
  },
  {
   "cell_type": "markdown",
   "id": "5c42d497",
   "metadata": {},
   "source": [
    "## Colocando inf nas distâncias entre os mesmos clusters\n",
    "\n",
    "Eu acho que a parte mais está demorando no momento é quando ele pega distâncias que pertencem ao mesmo cluster e com isso tem que realizar várias iterações até achar uma que funcione. Por isso o que vou tentar fazer é já colocar `float('inf')` nas distâncias de mesmo cluster quando ele juntar."
   ]
  },
  {
   "cell_type": "code",
   "execution_count": null,
   "id": "3b688df9",
   "metadata": {},
   "outputs": [],
   "source": [
    "matriz = dist_matrix(df_menor[:5])\n",
    "clusters = np.arange(10)\n",
    "\n",
    "matriz"
   ]
  },
  {
   "cell_type": "code",
   "execution_count": null,
   "id": "7731af0d",
   "metadata": {},
   "outputs": [],
   "source": [
    "lista = np.array([0,5,2])\n",
    "np.put(matriz, lista, float('inf'))\n",
    "matriz"
   ]
  },
  {
   "cell_type": "code",
   "execution_count": null,
   "id": "5cb91e29",
   "metadata": {},
   "outputs": [],
   "source": [
    "vet1 = np.array([1,2,3,4])\n",
    "vet2 = np.array((0,0,5,3))\n",
    "\n",
    "def get_pos(u, v, num_obj):\n",
    "    return u*num_obj + v\n",
    "\n",
    "\n",
    "teste = get_pos(vet1, vet2, 5)\n",
    "teste = list(teste)\n",
    "teste"
   ]
  },
  {
   "cell_type": "code",
   "execution_count": null,
   "id": "a34ebe1a",
   "metadata": {},
   "outputs": [],
   "source": [
    "np.put(matriz, teste, float('inf'))\n",
    "matriz"
   ]
  },
  {
   "cell_type": "code",
   "execution_count": null,
   "id": "75c9b7b0",
   "metadata": {},
   "outputs": [],
   "source": [
    "def agrupar_clusters_teste(matriz, clusters, objetos, numero_de_objetos):\n",
    "    obj1, obj2 =  objetos\n",
    "    cluster1 = clusters[obj1]\n",
    "    cluster2 = clusters[obj2]\n",
    "    \n",
    "    if cluster1 == cluster2:\n",
    "        return False\n",
    "    \n",
    "    if cluster1 < cluster2:\n",
    "        menor_cluster = cluster1\n",
    "        maior_cluster = cluster2\n",
    "    else:\n",
    "        menor_cluster = cluster2\n",
    "        maior_cluster = cluster1\n",
    "        \n",
    "    pos_menor = np.array(np.where(clusters == menor_cluster))\n",
    "    pos_maior = np.array(np.where(clusters == maior_cluster))\n",
    "    \n",
    "#     print(f\"Número de objetos {numero_de_objetos}\")\n",
    "#     print(f\"Posição cluster menor {pos_menor}\")\n",
    "#     print(f\"Posição cluster maior {pos_maior}\\n\\n\")\n",
    "#     print(lista_de_indices_inf)\n",
    "    lista_de_indices_inf = criar_lista_de_indices(pos_menor[0], pos_maior[0], numero_de_objetos)\n",
    "    print(f'Lista de índices {lista_de_indices_inf}')\n",
    "    \n",
    "    np.put(matriz, lista_de_indices_inf, float('inf'))\n",
    "    \n",
    "    clusters[clusters == maior_cluster] = menor_cluster\n",
    "    return True"
   ]
  },
  {
   "cell_type": "code",
   "execution_count": null,
   "id": "6e7c3fc4",
   "metadata": {},
   "outputs": [],
   "source": [
    "matriz = np.zeros((8,8))\n",
    "clusters = np.array([0,0,0,5,5,5,2,2], dtype=float)\n",
    "numero_de_objetos = len(clusters)\n",
    "obj1 = 5\n",
    "obj2 = 2\n",
    "\n",
    "agrupar_clusters_teste(matriz, clusters, [obj1,obj2], numero_de_objetos)"
   ]
  },
  {
   "cell_type": "code",
   "execution_count": null,
   "id": "8f8e8efc",
   "metadata": {},
   "outputs": [],
   "source": [
    "matriz"
   ]
  },
  {
   "cell_type": "code",
   "execution_count": null,
   "id": "e2417b87",
   "metadata": {},
   "outputs": [],
   "source": []
  }
 ],
 "metadata": {
  "kernelspec": {
   "display_name": "Python 3",
   "language": "python",
   "name": "python3"
  },
  "language_info": {
   "codemirror_mode": {
    "name": "ipython",
    "version": 3
   },
   "file_extension": ".py",
   "mimetype": "text/x-python",
   "name": "python",
   "nbconvert_exporter": "python",
   "pygments_lexer": "ipython3",
   "version": "3.9.4"
  }
 },
 "nbformat": 4,
 "nbformat_minor": 5
}
