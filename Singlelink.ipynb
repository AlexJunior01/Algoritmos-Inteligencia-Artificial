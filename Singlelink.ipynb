{
 "cells": [
  {
   "cell_type": "markdown",
   "metadata": {},
   "source": [
    "# Single Link"
   ]
  },
  {
   "cell_type": "markdown",
   "metadata": {},
   "source": [
    "## 1.Preparação do ambiente"
   ]
  },
  {
   "cell_type": "code",
   "execution_count": 1,
   "metadata": {},
   "outputs": [],
   "source": [
    "# Importando bibliotecas utilizadas\n",
    "import pandas as pd\n",
    "import numpy as np\n",
    "import random\n",
    "import matplotlib.pyplot as plt\n",
    "from math import sqrt, pow\n",
    "from datetime import datetime\n",
    "from time import sleep\n",
    "\n",
    "%matplotlib inline"
   ]
  },
  {
   "cell_type": "markdown",
   "metadata": {},
   "source": [
    "## 2.Algoritmo"
   ]
  },
  {
   "cell_type": "markdown",
   "metadata": {},
   "source": [
    "### 2.2.Implementação do Algoritmo"
   ]
  },
  {
   "cell_type": "code",
   "execution_count": 4,
   "metadata": {},
   "outputs": [],
   "source": [
    "class Distancia:\n",
    "    def __init__(self, distancia, objetos):\n",
    "        self.distancia = distancia\n",
    "        self.objetos = objetos\n",
    "        \n",
    "    def __str__(self):\n",
    "        return \"{}, {}\".format(self.distancia, self.objetos)\n",
    "    \n",
    "    def __repr__(self):\n",
    "        return repr((self.distancia, self.objetos))"
   ]
  },
  {
   "cell_type": "code",
   "execution_count": 5,
   "metadata": {},
   "outputs": [],
   "source": [
    "#Distancia Euclidiana\n",
    "def distancia_euclidiana(p1, p2):\n",
    "    distancia = sqrt(pow((p1[0] - p2[0]), 2) + pow((p1[1] - p2[1]), 2))\n",
    "    return distancia"
   ]
  },
  {
   "cell_type": "code",
   "execution_count": 6,
   "metadata": {},
   "outputs": [],
   "source": [
    "# Distancia com o método sorted\n",
    "def calcular_distancias(d1, d2, numero_de_objetos):\n",
    "    lista = []\n",
    "    for i in range(numero_de_objetos):\n",
    "        for j in range(i+1, numero_de_objetos):\n",
    "            distancia = distancia_euclidiana([d1[i], d2[i]], [d1[j], d2[j]])\n",
    "            objetos = [i, j]\n",
    "            \n",
    "            d = Distancia(distancia, objetos)\n",
    "            lista.append(d)\n",
    "\n",
    "    nova_lista = sorted(lista, key= lambda distancia: distancia.distancia)        \n",
    "    return nova_lista\n"
   ]
  },
  {
   "cell_type": "code",
   "execution_count": 7,
   "metadata": {},
   "outputs": [],
   "source": [
    "def iniciliza_clusters(numero_de_objetos):\n",
    "    clusters = []\n",
    "    for i in range(numero_de_objetos):\n",
    "        clusters.append(i)\n",
    "\n",
    "    return clusters    "
   ]
  },
  {
   "cell_type": "code",
   "execution_count": 8,
   "metadata": {},
   "outputs": [],
   "source": [
    "def agrupa_clusters(clusters, clusters_mais_proximos):\n",
    "    obj1, obj2 = clusters_mais_proximos\n",
    "    cluster1 = clusters[obj1]\n",
    "    cluster2 = clusters[obj2]\n",
    "    \n",
    "    if cluster1 == cluster2:\n",
    "        return False\n",
    "    \n",
    "    if cluster1 < cluster2:\n",
    "        menor = cluster1\n",
    "        maior = cluster2\n",
    "    else:\n",
    "        menor = cluster2\n",
    "        maior = cluster1\n",
    "        \n",
    "    for i in range(len(clusters)):\n",
    "        if clusters[i] == maior:\n",
    "            clusters[i] = menor\n",
    "    \n",
    "    return True"
   ]
  },
  {
   "cell_type": "code",
   "execution_count": 15,
   "metadata": {},
   "outputs": [],
   "source": [
    "def ajusta_indice(clusters):\n",
    "    clusters = pd.Series(clusters)\n",
    "    unicos = clusters.unique()\n",
    "    hash_map = {}\n",
    "    \n",
    "    for i in range(len(unicos)):\n",
    "        hash_map[unicos[i]] = i\n",
    "    \n",
    "    for i in range(len(clusters)):\n",
    "        clusters[i] = hash_map[clusters[i]]\n",
    "    "
   ]
  },
  {
   "cell_type": "code",
   "execution_count": 27,
   "metadata": {},
   "outputs": [],
   "source": [
    "def salvar_arquivo(dataset, clusters, nome, i):\n",
    "    ajusta_indice(clusters)\n",
    "    dataset['clusters'] = clusters\n",
    "    \n",
    "    dataset.drop(axis='columns', labels=['d1', 'd2']).to_csv(f'datasets/{nome}_{i:03d}.csv')"
   ]
  },
  {
   "cell_type": "code",
   "execution_count": 28,
   "metadata": {},
   "outputs": [],
   "source": [
    "def single_link(dataset, k_min, k_max, nome):\n",
    "    numero_de_objetos = len(dataset)\n",
    "    clusters = iniciliza_clusters(numero_de_objetos)\n",
    "    fila_com_distancias = calcular_distancias(dataset['d1'], dataset['d2'], numero_de_objetos)\n",
    "\n",
    "    \n",
    "    i = numero_de_objetos\n",
    "    while i > k_min:\n",
    "        objetos = fila_com_distancias.pop(0)\n",
    "        \n",
    "        if agrupa_clusters(clusters, objetos.objetos):\n",
    "            i -= 1\n",
    "            if i <= k_max:\n",
    "                salvar_arquivo(dataset, clusters, nome, i)\n",
    "    return clusters"
   ]
  }
 ],
 "metadata": {
  "kernelspec": {
   "display_name": "Python 3",
   "language": "python",
   "name": "python3"
  },
  "language_info": {
   "codemirror_mode": {
    "name": "ipython",
    "version": 3
   },
   "file_extension": ".py",
   "mimetype": "text/x-python",
   "name": "python",
   "nbconvert_exporter": "python",
   "pygments_lexer": "ipython3",
   "version": "3.9.4"
  }
 },
 "nbformat": 4,
 "nbformat_minor": 4
}
