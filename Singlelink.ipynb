{
 "cells": [
  {
   "cell_type": "markdown",
   "metadata": {},
   "source": [
    "# Single Link"
   ]
  },
  {
   "cell_type": "markdown",
   "metadata": {},
   "source": [
    "## 1.Preparação do ambiente"
   ]
  },
  {
   "cell_type": "code",
   "execution_count": 1,
   "metadata": {},
   "outputs": [],
   "source": [
    "# Importando bibliotecas utilizadas\n",
    "import pandas as pd\n",
    "import numpy as np\n",
    "import random\n",
    "import matplotlib.pyplot as plt\n",
    "from math import sqrt, pow\n",
    "from datetime import datetime\n",
    "from time import sleep\n",
    "\n",
    "%matplotlib inline"
   ]
  },
  {
   "cell_type": "code",
   "execution_count": 24,
   "metadata": {},
   "outputs": [],
   "source": [
    "inicio = datetime.now()\n",
    "\n",
    "sleep(2)\n",
    "\n",
    "fim = datetime.now()"
   ]
  },
  {
   "cell_type": "code",
   "execution_count": 25,
   "metadata": {},
   "outputs": [
    {
     "data": {
      "text/plain": [
       "datetime.timedelta(seconds=2, microseconds=1189)"
      ]
     },
     "execution_count": 25,
     "metadata": {},
     "output_type": "execute_result"
    }
   ],
   "source": [
    "fim-inicio"
   ]
  },
  {
   "cell_type": "code",
   "execution_count": 2,
   "metadata": {},
   "outputs": [
    {
     "data": {
      "text/html": [
       "<div>\n",
       "<style scoped>\n",
       "    .dataframe tbody tr th:only-of-type {\n",
       "        vertical-align: middle;\n",
       "    }\n",
       "\n",
       "    .dataframe tbody tr th {\n",
       "        vertical-align: top;\n",
       "    }\n",
       "\n",
       "    .dataframe thead th {\n",
       "        text-align: right;\n",
       "    }\n",
       "</style>\n",
       "<table border=\"1\" class=\"dataframe\">\n",
       "  <thead>\n",
       "    <tr style=\"text-align: right;\">\n",
       "      <th></th>\n",
       "      <th>d1</th>\n",
       "      <th>d2</th>\n",
       "    </tr>\n",
       "    <tr>\n",
       "      <th>sample_label</th>\n",
       "      <th></th>\n",
       "      <th></th>\n",
       "    </tr>\n",
       "  </thead>\n",
       "  <tbody>\n",
       "    <tr>\n",
       "      <th>c2sp1s1</th>\n",
       "      <td>10.500000</td>\n",
       "      <td>9.000000</td>\n",
       "    </tr>\n",
       "    <tr>\n",
       "      <th>c2sp1s2</th>\n",
       "      <td>10.567170</td>\n",
       "      <td>9.268445</td>\n",
       "    </tr>\n",
       "    <tr>\n",
       "      <th>c2sp1s3</th>\n",
       "      <td>8.275320</td>\n",
       "      <td>11.382210</td>\n",
       "    </tr>\n",
       "    <tr>\n",
       "      <th>c2sp1s4</th>\n",
       "      <td>8.227458</td>\n",
       "      <td>11.377640</td>\n",
       "    </tr>\n",
       "    <tr>\n",
       "      <th>c2sp1s5</th>\n",
       "      <td>8.179511</td>\n",
       "      <td>11.372110</td>\n",
       "    </tr>\n",
       "  </tbody>\n",
       "</table>\n",
       "</div>"
      ],
      "text/plain": [
       "                     d1         d2\n",
       "sample_label                      \n",
       "c2sp1s1       10.500000   9.000000\n",
       "c2sp1s2       10.567170   9.268445\n",
       "c2sp1s3        8.275320  11.382210\n",
       "c2sp1s4        8.227458  11.377640\n",
       "c2sp1s5        8.179511  11.372110"
      ]
     },
     "execution_count": 2,
     "metadata": {},
     "output_type": "execute_result"
    }
   ],
   "source": [
    "# Lendo o conjunto de dados\n",
    "df1 = pd.read_csv('datasets/c2ds1-2sp.txt', sep='\\t', index_col='sample_label')\n",
    "df1.head()"
   ]
  },
  {
   "cell_type": "markdown",
   "metadata": {},
   "source": [
    "## 2.Algoritmo"
   ]
  },
  {
   "cell_type": "markdown",
   "metadata": {},
   "source": [
    "### 2.1.Pseudo código\n",
    "\n",
    "``` python\n",
    "\n",
    "# Refazer pseudo código\n",
    "\n",
    "```"
   ]
  },
  {
   "cell_type": "markdown",
   "metadata": {},
   "source": [
    "### 2.2.Implementação do Algoritmo"
   ]
  },
  {
   "cell_type": "code",
   "execution_count": 3,
   "metadata": {},
   "outputs": [],
   "source": [
    "class Distancia:\n",
    "    def __init__(self, distancia, objetos):\n",
    "        self.distancia = distancia\n",
    "        self.objetos = objetos\n",
    "        \n",
    "    def __str__(self):\n",
    "        return \"{}, {}\".format(self.distancia, self.objetos)\n",
    "    \n",
    "    def __repr__(self):\n",
    "        return repr((self.distancia, self.objetos))"
   ]
  },
  {
   "cell_type": "code",
   "execution_count": 4,
   "metadata": {},
   "outputs": [],
   "source": [
    "#Distancia Euclidiana\n",
    "def distancia_euclidiana(p1, p2):\n",
    "    distancia = sqrt(pow((p1[0] - p2[0]), 2) + pow((p1[1] - p2[1]), 2))\n",
    "    return distancia"
   ]
  },
  {
   "cell_type": "code",
   "execution_count": 5,
   "metadata": {},
   "outputs": [],
   "source": [
    "# Distancia com o método sorted\n",
    "def calcular_distancias(d1, d2, numero_de_objetos):\n",
    "    lista = []\n",
    "    for i in range(numero_de_objetos):\n",
    "        for j in range(i+1, numero_de_objetos):\n",
    "            distancia = distancia_euclidiana([d1[i], d2[i]], [d1[j], d2[j]])\n",
    "            objetos = [i, j]\n",
    "            \n",
    "            d = Distancia(distancia, objetos)\n",
    "            lista.append(d)\n",
    "\n",
    "    nova_lista = sorted(lista, key= lambda distancia: distancia.distancia)        \n",
    "    return nova_lista\n"
   ]
  },
  {
   "cell_type": "code",
   "execution_count": 6,
   "metadata": {},
   "outputs": [],
   "source": [
    "def iniciliza_clusters(numero_de_objetos):\n",
    "    clusters = []\n",
    "    for i in range(numero_de_objetos):\n",
    "        clusters.append(i)\n",
    "\n",
    "    return clusters    "
   ]
  },
  {
   "cell_type": "code",
   "execution_count": 7,
   "metadata": {},
   "outputs": [],
   "source": [
    "def agrupa_clusters(clusters, clusters_mais_proximos):\n",
    "    obj1, obj2 = clusters_mais_proximos\n",
    "    cluster1 = clusters[obj1]\n",
    "    cluster2 = clusters[obj2]\n",
    "    \n",
    "    if cluster1 == cluster2:\n",
    "        return False\n",
    "    \n",
    "    if cluster1 < cluster2:\n",
    "        menor = cluster1\n",
    "        maior = cluster2\n",
    "    else:\n",
    "        menor = cluster2\n",
    "        maior = cluster1\n",
    "        \n",
    "    for i in range(len(clusters)):\n",
    "        if clusters[i] == maior:\n",
    "            clusters[i] = menor\n",
    "    \n",
    "    return True"
   ]
  },
  {
   "cell_type": "code",
   "execution_count": 8,
   "metadata": {},
   "outputs": [],
   "source": [
    "def single_link(dataset, k_min, k_max):\n",
    "    numero_de_objetos = len(dataset)\n",
    "    clusters = iniciliza_clusters(numero_de_objetos)\n",
    "    fila_com_distancias = calcular_distancias(dataset['d1'], dataset['d2'], numero_de_objetos)\n",
    "\n",
    "    \n",
    "    i = numero_de_objetos\n",
    "    while i > k_min:\n",
    "        objetos = fila_com_distancias.pop(0)\n",
    "        if agrupa_clusters(clusters, objetos.objetos):\n",
    "            i -= 1\n",
    "    \n",
    "    return clusters"
   ]
  },
  {
   "cell_type": "markdown",
   "metadata": {},
   "source": [
    "## 3.Resultados"
   ]
  },
  {
   "cell_type": "markdown",
   "metadata": {},
   "source": [
    "### 3.1.Teste inicial do algoritmo"
   ]
  },
  {
   "cell_type": "code",
   "execution_count": 9,
   "metadata": {},
   "outputs": [],
   "source": [
    "df_test = df1[:10].copy()"
   ]
  },
  {
   "cell_type": "code",
   "execution_count": 16,
   "metadata": {},
   "outputs": [
    {
     "data": {
      "image/png": "[encoded data removed]",
      "text/plain": [
       "<Figure size 576x360 with 1 Axes>"
      ]
     },
     "metadata": {
      "needs_background": "light"
     },
     "output_type": "display_data"
    }
   ],
   "source": [
    "fig = plt.figure(figsize=(8,5))\n",
    "ax = fig.add_axes([0,0,1,1])\n",
    "\n",
    "plt.scatter(x=df_test['d1'], y=df_test['d2'])\n",
    "plt.show()"
   ]
  },
  {
   "cell_type": "code",
   "execution_count": 14,
   "metadata": {
    "collapsed": true
   },
   "outputs": [
    {
     "name": "stdout",
     "output_type": "stream",
     "text": [
      "[2, 3]\n",
      "[0, 1, 2, 3, 4, 5, 6, 7, 8, 9]\n",
      "2 3\n",
      "[3, 4]\n",
      "[0, 1, 2, 2, 4, 5, 6, 7, 8, 9]\n",
      "3 4\n",
      "[4, 5]\n",
      "[0, 1, 2, 2, 2, 5, 6, 7, 8, 9]\n",
      "4 5\n",
      "[5, 6]\n",
      "[0, 1, 2, 2, 2, 2, 6, 7, 8, 9]\n",
      "5 6\n",
      "[6, 7]\n",
      "[0, 1, 2, 2, 2, 2, 2, 7, 8, 9]\n",
      "6 7\n",
      "[7, 8]\n",
      "[0, 1, 2, 2, 2, 2, 2, 2, 8, 9]\n",
      "7 8\n",
      "[8, 9]\n",
      "[0, 1, 2, 2, 2, 2, 2, 2, 2, 9]\n",
      "8 9\n",
      "[2, 4]\n",
      "[0, 1, 2, 2, 2, 2, 2, 2, 2, 2]\n",
      "2 4\n",
      "[3, 5]\n",
      "[0, 1, 2, 2, 2, 2, 2, 2, 2, 2]\n",
      "3 5\n",
      "[4, 6]\n",
      "[0, 1, 2, 2, 2, 2, 2, 2, 2, 2]\n",
      "4 6\n",
      "[5, 7]\n",
      "[0, 1, 2, 2, 2, 2, 2, 2, 2, 2]\n",
      "5 7\n",
      "[6, 8]\n",
      "[0, 1, 2, 2, 2, 2, 2, 2, 2, 2]\n",
      "6 8\n",
      "[7, 9]\n",
      "[0, 1, 2, 2, 2, 2, 2, 2, 2, 2]\n",
      "7 9\n",
      "[2, 5]\n",
      "[0, 1, 2, 2, 2, 2, 2, 2, 2, 2]\n",
      "2 5\n",
      "[3, 6]\n",
      "[0, 1, 2, 2, 2, 2, 2, 2, 2, 2]\n",
      "3 6\n",
      "[4, 7]\n",
      "[0, 1, 2, 2, 2, 2, 2, 2, 2, 2]\n",
      "4 7\n",
      "[5, 8]\n",
      "[0, 1, 2, 2, 2, 2, 2, 2, 2, 2]\n",
      "5 8\n",
      "[6, 9]\n",
      "[0, 1, 2, 2, 2, 2, 2, 2, 2, 2]\n",
      "6 9\n",
      "[2, 6]\n",
      "[0, 1, 2, 2, 2, 2, 2, 2, 2, 2]\n",
      "2 6\n",
      "[3, 7]\n",
      "[0, 1, 2, 2, 2, 2, 2, 2, 2, 2]\n",
      "3 7\n",
      "[4, 8]\n",
      "[0, 1, 2, 2, 2, 2, 2, 2, 2, 2]\n",
      "4 8\n",
      "[5, 9]\n",
      "[0, 1, 2, 2, 2, 2, 2, 2, 2, 2]\n",
      "5 9\n",
      "[2, 7]\n",
      "[0, 1, 2, 2, 2, 2, 2, 2, 2, 2]\n",
      "2 7\n",
      "[3, 8]\n",
      "[0, 1, 2, 2, 2, 2, 2, 2, 2, 2]\n",
      "3 8\n",
      "[4, 9]\n",
      "[0, 1, 2, 2, 2, 2, 2, 2, 2, 2]\n",
      "4 9\n",
      "[0, 1]\n",
      "[0, 1, 2, 2, 2, 2, 2, 2, 2, 2]\n",
      "0 1\n"
     ]
    }
   ],
   "source": [
    "lista_de_clusters = single_link(df_test, 2, 15)\n"
   ]
  },
  {
   "cell_type": "code",
   "execution_count": 15,
   "metadata": {
    "scrolled": true
   },
   "outputs": [
    {
     "data": {
      "text/plain": [
       "[0, 0, 2, 2, 2, 2, 2, 2, 2, 2]"
      ]
     },
     "execution_count": 15,
     "metadata": {},
     "output_type": "execute_result"
    }
   ],
   "source": [
    "lista_de_clusters"
   ]
  },
  {
   "cell_type": "markdown",
   "metadata": {},
   "source": [
    "### 3.2 Testes reais"
   ]
  },
  {
   "cell_type": "code",
   "execution_count": 9,
   "metadata": {},
   "outputs": [],
   "source": [
    "inicio = datetime.now()\n",
    "lista_de_clusters = single_link(df1, 2, 15)\n",
    "fim = datetime.now()"
   ]
  },
  {
   "cell_type": "code",
   "execution_count": 10,
   "metadata": {},
   "outputs": [
    {
     "data": {
      "text/plain": [
       "datetime.timedelta(seconds=28, microseconds=436101)"
      ]
     },
     "execution_count": 10,
     "metadata": {},
     "output_type": "execute_result"
    }
   ],
   "source": [
    "fim - inicio"
   ]
  },
  {
   "cell_type": "code",
   "execution_count": 12,
   "metadata": {},
   "outputs": [
    {
     "data": {
      "text/plain": [
       "array([  0, 500], dtype=int64)"
      ]
     },
     "execution_count": 12,
     "metadata": {},
     "output_type": "execute_result"
    }
   ],
   "source": [
    "pd.Series(lista_de_clusters).unique()"
   ]
  },
  {
   "cell_type": "code",
   "execution_count": 13,
   "metadata": {},
   "outputs": [
    {
     "data": {
      "text/html": [
       "<div>\n",
       "<style scoped>\n",
       "    .dataframe tbody tr th:only-of-type {\n",
       "        vertical-align: middle;\n",
       "    }\n",
       "\n",
       "    .dataframe tbody tr th {\n",
       "        vertical-align: top;\n",
       "    }\n",
       "\n",
       "    .dataframe thead th {\n",
       "        text-align: right;\n",
       "    }\n",
       "</style>\n",
       "<table border=\"1\" class=\"dataframe\">\n",
       "  <thead>\n",
       "    <tr style=\"text-align: right;\">\n",
       "      <th></th>\n",
       "      <th>d1</th>\n",
       "      <th>d2</th>\n",
       "      <th>clusters</th>\n",
       "    </tr>\n",
       "    <tr>\n",
       "      <th>sample_label</th>\n",
       "      <th></th>\n",
       "      <th></th>\n",
       "      <th></th>\n",
       "    </tr>\n",
       "  </thead>\n",
       "  <tbody>\n",
       "    <tr>\n",
       "      <th>c2sp1s1</th>\n",
       "      <td>10.500000</td>\n",
       "      <td>9.000000</td>\n",
       "      <td>0</td>\n",
       "    </tr>\n",
       "    <tr>\n",
       "      <th>c2sp1s2</th>\n",
       "      <td>10.567170</td>\n",
       "      <td>9.268445</td>\n",
       "      <td>0</td>\n",
       "    </tr>\n",
       "    <tr>\n",
       "      <th>c2sp1s3</th>\n",
       "      <td>8.275320</td>\n",
       "      <td>11.382210</td>\n",
       "      <td>0</td>\n",
       "    </tr>\n",
       "    <tr>\n",
       "      <th>c2sp1s4</th>\n",
       "      <td>8.227458</td>\n",
       "      <td>11.377640</td>\n",
       "      <td>0</td>\n",
       "    </tr>\n",
       "    <tr>\n",
       "      <th>c2sp1s5</th>\n",
       "      <td>8.179511</td>\n",
       "      <td>11.372110</td>\n",
       "      <td>0</td>\n",
       "    </tr>\n",
       "  </tbody>\n",
       "</table>\n",
       "</div>"
      ],
      "text/plain": [
       "                     d1         d2  clusters\n",
       "sample_label                                \n",
       "c2sp1s1       10.500000   9.000000         0\n",
       "c2sp1s2       10.567170   9.268445         0\n",
       "c2sp1s3        8.275320  11.382210         0\n",
       "c2sp1s4        8.227458  11.377640         0\n",
       "c2sp1s5        8.179511  11.372110         0"
      ]
     },
     "execution_count": 13,
     "metadata": {},
     "output_type": "execute_result"
    }
   ],
   "source": [
    "df1['clusters'] = lista_de_clusters\n",
    "df1.head()"
   ]
  },
  {
   "cell_type": "code",
   "execution_count": 14,
   "metadata": {},
   "outputs": [
    {
     "data": {
      "image/png": "[encoded data removed]",
      "text/plain": [
       "<Figure size 576x360 with 1 Axes>"
      ]
     },
     "metadata": {
      "needs_background": "light"
     },
     "output_type": "display_data"
    }
   ],
   "source": [
    "fig = plt.figure(figsize=(8,5))\n",
    "ax = fig.add_axes([0,0,1,1])\n",
    "\n",
    "lista = [0, 500]\n",
    "cores = {0: \"red\", 500: \"pink\"}\n",
    "\n",
    "for i in lista:\n",
    "    temp = df1.query(f'clusters == {i}')\n",
    "    plt.scatter(x=temp['d1'], y=temp['d2'], color=cores[i])\n",
    "    \n",
    "plt.show()"
   ]
  },
  {
   "cell_type": "code",
   "execution_count": null,
   "metadata": {},
   "outputs": [],
   "source": []
  }
 ],
 "metadata": {
  "kernelspec": {
   "display_name": "Python 3",
   "language": "python",
   "name": "python3"
  },
  "language_info": {
   "codemirror_mode": {
    "name": "ipython",
    "version": 3
   },
   "file_extension": ".py",
   "mimetype": "text/x-python",
   "name": "python",
   "nbconvert_exporter": "python",
   "pygments_lexer": "ipython3",
   "version": "3.8.3"
  }
 },
 "nbformat": 4,
 "nbformat_minor": 4
}
