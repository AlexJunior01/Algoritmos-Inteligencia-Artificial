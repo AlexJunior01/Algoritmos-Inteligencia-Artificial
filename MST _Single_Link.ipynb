{
 "cells": [
  {
   "cell_type": "code",
   "execution_count": 23,
   "metadata": {},
   "outputs": [],
   "source": [
    "# Importando bibliotecas utilizadas\n",
    "import pandas as pd\n",
    "import numpy as np\n",
    "import random\n",
    "import matplotlib.pyplot as plt\n",
    "from math import sqrt, pow\n",
    "from datetime import datetime\n",
    "from time import sleep"
   ]
  },
  {
   "cell_type": "code",
   "execution_count": 53,
   "metadata": {},
   "outputs": [],
   "source": [
    "def salvar_arquivo(dataset, clusters, nome, i):\n",
    "    dataset['clusters'] = clusters\n",
    "    dataset.drop(axis='columns', labels=['d1', 'd2']).to_csv(f'datasets/{nome}{i:03d}.csv', index=False)"
   ]
  },
  {
   "cell_type": "code",
   "execution_count": 54,
   "metadata": {},
   "outputs": [],
   "source": [
    "#Distancia Euclidiana\n",
    "# Mudei a forma como é calculado para poder utilizar vetorização\n",
    "def distancia_euclidiana(x1, y1, x2, y2):\n",
    "    X = x1 - x2\n",
    "    Y = y1 - y2\n",
    "    \n",
    "    X = X*X\n",
    "    Y = Y*Y\n",
    "    \n",
    "    distancia = np.sqrt(X+Y)\n",
    "    return distancia"
   ]
  },
  {
   "cell_type": "code",
   "execution_count": 42,
   "metadata": {},
   "outputs": [],
   "source": [
    "def dist_matrix(df):\n",
    "    lista = []\n",
    "    for i, row in df.iterrows():\n",
    "        distancias = distancia_euclidiana(row['d1'], row['d2'], df['d1'].values, df['d2'].values)\n",
    "        \n",
    "        lista.append(distancias)\n",
    "    \n",
    "    matrix = np.array(lista)\n",
    "    np.fill_diagonal(matrix, float('inf'))\n",
    "    \n",
    "    \n",
    "    return matrix"
   ]
  },
  {
   "cell_type": "code",
   "execution_count": 43,
   "metadata": {},
   "outputs": [],
   "source": [
    "def agrupar_clusters(clusters, objetos, numero_de_objetos):\n",
    "    obj1, obj2 =  objetos\n",
    "    cluster1 = clusters[obj1]\n",
    "    cluster2 = clusters[obj2]\n",
    "\n",
    "    \n",
    "    if cluster1 < cluster2:\n",
    "        menor_cluster = cluster1\n",
    "        maior_cluster = cluster2\n",
    "    else:\n",
    "        menor_cluster = cluster2\n",
    "        maior_cluster = cluster1\n",
    "        \n",
    "    pos_menor = np.array(np.where(clusters == menor_cluster))\n",
    "    pos_maior = np.array(np.where(clusters == maior_cluster))\n",
    "\n",
    "    clusters[clusters == maior_cluster] = menor_cluster"
   ]
  },
  {
   "cell_type": "code",
   "execution_count": 44,
   "metadata": {},
   "outputs": [],
   "source": [
    "def mst_single_link(matriz, numero_de_objetos):\n",
    "    # Matriz com objetos e distancia até eles\n",
    "    # obj1 obj2 dist\n",
    "    ordem_de_agrupamento = np.zeros((numero_de_objetos-1,3))\n",
    "    \n",
    "    # Quais objetos já foram juntados\n",
    "    conectados = np.zeros(numero_de_objetos)\n",
    "    \n",
    "    #Distância até cada objeto que é possível alcançar\n",
    "    #Seria a distância entres os objetos que já temos como alcançar do algoritmo de Prim\n",
    "    #Começa todos com infinito\n",
    "    dist_conhecidas = np.zeros(numero_de_objetos)\n",
    "    dist_conhecidas[:] = float('inf')\n",
    "    \n",
    "    # obj 1 e 2 serão os pontos\n",
    "    # dist_atual é a menor distância de cada iteração\n",
    "    obj2 = dist_atual = -1\n",
    "    obj1 = 0\n",
    "    \n",
    "    for i in range(numero_de_objetos-1):\n",
    "        conectados[obj1] = 1\n",
    "        dist_atual = float('inf')\n",
    "        for j in range(numero_de_objetos):\n",
    "            if conectados[j] == 1:\n",
    "                continue\n",
    "                \n",
    "            dist = matriz[obj1][j]\n",
    "            if dist_conhecidas[j] > dist:\n",
    "                dist_conhecidas[j] = dist\n",
    "            \n",
    "            \n",
    "            if dist_conhecidas[j] < dist_atual:\n",
    "                dist_atual = dist\n",
    "                obj2 = j\n",
    "        \n",
    "        ordem_de_agrupamento[i][0] = obj1\n",
    "        ordem_de_agrupamento[i][1] = obj2\n",
    "        ordem_de_agrupamento[i][2] = dist_atual\n",
    "        obj1 = obj2\n",
    "        \n",
    "    return ordem_de_agrupamento[np.argsort(ordem_de_agrupamento[:,2])]\n",
    "        "
   ]
  },
  {
   "cell_type": "code",
   "execution_count": 45,
   "metadata": {},
   "outputs": [],
   "source": [
    "def single_link(dataset, k_min, k_max, nome):\n",
    "    numero_de_objetos = len(dataset)\n",
    "    matriz = dist_matrix(dataset)\n",
    "    clusters = np.arange(numero_de_objetos, dtype=int)\n",
    "    \n",
    "    qtd_clusters = numero_de_objetos\n",
    "    ordem_de_agrupamento = mst_single_link(matriz, numero_de_objetos)\n",
    "    \n",
    "    for i in range(numero_de_objetos-k_min):\n",
    "        obj1 = int(ordem_de_agrupamento[i][0])\n",
    "        obj2 = int(ordem_de_agrupamento[i][1])\n",
    "        agrupar_clusters(clusters, [obj1,obj2],numero_de_objetos)\n",
    "        if (numero_de_objetos - i -1 <= k_max):\n",
    "            salvar_arquivo(dataset, clusters, nome, numero_de_objetos - i -1)\n",
    "    return clusters"
   ]
  }
 ],
 "metadata": {
  "kernelspec": {
   "display_name": "Python 3",
   "language": "python",
   "name": "python3"
  },
  "language_info": {
   "codemirror_mode": {
    "name": "ipython",
    "version": 3
   },
   "file_extension": ".py",
   "mimetype": "text/x-python",
   "name": "python",
   "nbconvert_exporter": "python",
   "pygments_lexer": "ipython3",
   "version": "3.8.5"
  }
 },
 "nbformat": 4,
 "nbformat_minor": 4
}
