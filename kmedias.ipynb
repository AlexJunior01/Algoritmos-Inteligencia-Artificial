{
 "cells": [
  {
   "cell_type": "markdown",
   "metadata": {},
   "source": [
    "# K-média"
   ]
  },
  {
   "cell_type": "markdown",
   "metadata": {
    "id": "W0PD81akOyvK"
   },
   "source": [
    "## 1. Preparações do ambiente"
   ]
  },
  {
   "cell_type": "code",
   "execution_count": 1,
   "metadata": {
    "id": "0nTAkPD-OyvO"
   },
   "outputs": [],
   "source": [
    "# Importando bibliotecas utilizadas\n",
    "import pandas as pd\n",
    "import numpy as np\n",
    "import random\n",
    "import matplotlib.pyplot as plt\n",
    "from math import sqrt, pow\n",
    "\n",
    "%matplotlib inline\n"
   ]
  },
  {
   "cell_type": "markdown",
   "metadata": {
    "id": "0otQtSqiOyvU"
   },
   "source": [
    "## 2. K-médias\n",
    "\n",
    "### 2.1 Pseudo código elaborado"
   ]
  },
  {
   "cell_type": "markdown",
   "metadata": {
    "id": "2_QDGndDOyvV",
    "outputId": "8045fbec-5fce-4540-d00b-21725324423d",
    "scrolled": true
   },
   "source": [
    "``` python \n",
    "def Kmedias(dataset, k, num_iters):\n",
    "    centroides = centroides_aleatorios(teste, k)\n",
    "    lista_centroides = []\n",
    "    for i in range(num_iters):\n",
    "        // Definindo qual centroid mais próximo\n",
    "        for j in range(numero_de_objetos):\n",
    "            centroide = centroide_mais_proximo(objeto, centroides)\n",
    "            lista_centroides.append(centroide)\n",
    "        \n",
    "        centroides = recalcular_centroides()\n",
    "    \n",
    "    teste[\"centroide\"] = lista_centroides\n",
    "    teste.drop(axis='columns', labels=['d1', 'd2'])\n",
    "```\n",
    "\n"
   ]
  },
  {
   "cell_type": "markdown",
   "metadata": {
    "id": "oGRR-Mi5OyvX"
   },
   "source": [
    "### 2.2 Algoritmo"
   ]
  },
  {
   "cell_type": "code",
   "execution_count": 5,
   "metadata": {
    "id": "Hwt88baiOyvX"
   },
   "outputs": [],
   "source": [
    "def centroides_aleatorios(dataset, k):\n",
    "    atrib1_max = dataset[\"d1\"].max()\n",
    "    atrib1_min = dataset[\"d1\"].min()\n",
    "    \n",
    "    atrib2_max = dataset[\"d2\"].max()\n",
    "    atrib2_min = dataset[\"d2\"].min()\n",
    "    \n",
    "    clusters = []\n",
    "    for i in range(k):\n",
    "        a1 = random.uniform(atrib1_min, atrib1_max)\n",
    "        a2 = random.uniform(atrib2_min, atrib2_max)\n",
    "        \n",
    "        clusters.append([a1, a2])\n",
    "\n",
    "    return clusters"
   ]
  },
  {
   "cell_type": "code",
   "execution_count": 6,
   "metadata": {
    "id": "WuRL0ESxOyvZ"
   },
   "outputs": [],
   "source": [
    "#Distancia Euclidiana\n",
    "def distEuclidiana(p, centroide):\n",
    "    distancia = sqrt(pow((p[0] - centroide[0]), 2) + pow((p[1] - centroide[1]), 2))\n",
    "    return distancia"
   ]
  },
  {
   "cell_type": "code",
   "execution_count": 7,
   "metadata": {
    "id": "NztN_LVhOyva"
   },
   "outputs": [],
   "source": [
    "def centroides_mais_proximos(d1, d2, centroides, numero_de_objetos):\n",
    "    lista_centroides = []\n",
    "    for i in range(numero_de_objetos):\n",
    "        centroide = centroide_mais_proximo([d1[i], d2[i]], centroides)\n",
    "        lista_centroides.append(centroide)\n",
    "    \n",
    "    return lista_centroides"
   ]
  },
  {
   "cell_type": "code",
   "execution_count": 8,
   "metadata": {
    "id": "-l5uc1_POyvb"
   },
   "outputs": [],
   "source": [
    "def centroide_mais_proximo(objeto, centroides):\n",
    "    menor_dist = distEuclidiana(objeto, centroides[0])\n",
    "    index = 0\n",
    "    for i in range(1, len(centroides)):\n",
    "        nova_dist = distEuclidiana(objeto, centroides[i])\n",
    "        if nova_dist < menor_dist:\n",
    "            menor_dist = nova_dist\n",
    "            index = i\n",
    "    \n",
    "    return index"
   ]
  },
  {
   "cell_type": "code",
   "execution_count": 14,
   "metadata": {
    "id": "OKsTgg9gOyvc"
   },
   "outputs": [],
   "source": [
    "def recalcular_centroides(dataset, k):\n",
    "    novos_centroides = []\n",
    "    for i in range(k):\n",
    "        qtd_obj = len(dataset.query(f'clusters == {i}'))\n",
    "        d1 = dataset.query(f'clusters == {i}')['d1'].sum()\n",
    "        d2 = dataset.query(f'clusters == {i}')['d2'].sum()\n",
    "        \n",
    "        d1 /= qtd_obj\n",
    "        d2 /= qtd_obj\n",
    "        \n",
    "        novos_centroides.append([d1, d2])\n",
    "    \n",
    "    return novos_centroides"
   ]
  },
  {
   "cell_type": "code",
   "execution_count": 15,
   "metadata": {},
   "outputs": [],
   "source": [
    "def salvar_arquivo(nome, dataset):\n",
    "    dataset.drop(axis='columns', labels=['d1', 'd2']).to_csv(f'datasets/{nome}.csv')"
   ]
  },
  {
   "cell_type": "code",
   "execution_count": 23,
   "metadata": {
    "id": "qS7UlshHOyvd"
   },
   "outputs": [],
   "source": [
    "def kmedias(dataset, k, numero_de_iteracoes, nome):\n",
    "    centroides = centroides_aleatorios(dataset, k)\n",
    "    lista_centroides = []\n",
    "    numero_de_objetos = len(dataset)\n",
    "    \n",
    "    for i in range(numero_de_iteracoes):\n",
    "        lista_centroides = centroides_mais_proximos(dataset[\"d1\"], dataset[\"d2\"], centroides, numero_de_objetos)\n",
    "        \n",
    "        dataset['clusters'] = lista_centroides\n",
    "        centroides = recalcular_centroides(dataset, k)\n",
    "    \n",
    "    \n",
    "    salvar_arquivo(nome, dataset)\n",
    "    return [dataset, centroides]"
   ]
  }
 ],
 "metadata": {
  "colab": {
   "name": "kmedias.ipynb",
   "provenance": [],
   "toc_visible": true
  },
  "kernelspec": {
   "display_name": "Python 3",
   "language": "python",
   "name": "python3"
  },
  "language_info": {
   "codemirror_mode": {
    "name": "ipython",
    "version": 3
   },
   "file_extension": ".py",
   "mimetype": "text/x-python",
   "name": "python",
   "nbconvert_exporter": "python",
   "pygments_lexer": "ipython3",
   "version": "3.9.4"
  }
 },
 "nbformat": 4,
 "nbformat_minor": 1
}
