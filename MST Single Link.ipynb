{
 "cells": [
  {
   "cell_type": "code",
   "execution_count": 6,
   "metadata": {},
   "outputs": [],
   "source": [
    "# Importando bibliotecas utilizadas\n",
    "import pandas as pd\n",
    "import numpy as np\n",
    "import random\n",
    "import matplotlib.pyplot as plt\n",
    "from math import sqrt, pow\n",
    "from datetime import datetime\n",
    "from time import sleep"
   ]
  },
  {
   "cell_type": "code",
   "execution_count": 1,
   "metadata": {},
   "outputs": [],
   "source": [
    "#Distancia Euclidiana\n",
    "# Mudei a forma como é calculado para poder utilizar vetorização\n",
    "def distancia_euclidiana(x1, y1, x2, y2):\n",
    "    X = x1 - x2\n",
    "    Y = y1 - y2\n",
    "    \n",
    "    X = X*X\n",
    "    Y = Y*Y\n",
    "    \n",
    "    distancia = np.sqrt(X+Y)\n",
    "    return distancia"
   ]
  },
  {
   "cell_type": "code",
   "execution_count": 2,
   "metadata": {},
   "outputs": [],
   "source": [
    "def dist_matrix(df):\n",
    "    lista = []\n",
    "    for i, row in df.iterrows():\n",
    "        distancias = distancia_euclidiana(row['d1'], row['d2'], df['d1'].values, df['d2'].values)\n",
    "        \n",
    "        lista.append(distancias)\n",
    "    \n",
    "    matrix = np.array(lista)\n",
    "    np.fill_diagonal(matrix, float('inf'))\n",
    "    \n",
    "    \n",
    "    return matrix"
   ]
  },
  {
   "cell_type": "code",
   "execution_count": 3,
   "metadata": {},
   "outputs": [],
   "source": [
    "def agrupar_clusters(clusters, objetos, numero_de_objetos):\n",
    "    obj1, obj2 =  objetos\n",
    "    cluster1 = clusters[obj1]\n",
    "    cluster2 = clusters[obj2]\n",
    "\n",
    "    \n",
    "    if cluster1 < cluster2:\n",
    "        menor_cluster = cluster1\n",
    "        maior_cluster = cluster2\n",
    "    else:\n",
    "        menor_cluster = cluster2\n",
    "        maior_cluster = cluster1\n",
    "        \n",
    "    pos_menor = np.array(np.where(clusters == menor_cluster))\n",
    "    pos_maior = np.array(np.where(clusters == maior_cluster))\n",
    "\n",
    "    clusters[clusters == maior_cluster] = menor_cluster"
   ]
  },
  {
   "cell_type": "code",
   "execution_count": 4,
   "metadata": {},
   "outputs": [],
   "source": [
    "def mst_single_link(matriz, numero_de_objetos):\n",
    "    # Matriz com objetos e distancia até eles\n",
    "    # obj1 obj2 dist\n",
    "    ordem_de_agrupamento = np.zeros((numero_de_objetos-1,3))\n",
    "    \n",
    "    # Quais objetos já foram juntados\n",
    "    conectados = np.zeros(numero_de_objetos)\n",
    "    \n",
    "    #Distância até cada objeto que é possível alcançar\n",
    "    #Seria a distância entres os objetos que já temos como alcançar do algoritmo de Prim\n",
    "    #Começa todos com infinito\n",
    "    dist_conhecidas = np.zeros(numero_de_objetos)\n",
    "    dist_conhecidas[:] = float('inf')\n",
    "    \n",
    "    # obj 1 e 2 serão os pontos\n",
    "    # dist_atual é a menor distância de cada iteração\n",
    "    obj2 = dist_atual = -1\n",
    "    obj1 = 0\n",
    "    \n",
    "    for i in range(numero_de_objetos-1):\n",
    "        conectados[obj1] = 1\n",
    "        dist_atual = float('inf')\n",
    "        for j in range(numero_de_objetos):\n",
    "            if conectados[j] == 1:\n",
    "                continue\n",
    "                \n",
    "            dist = matriz[obj1][j]\n",
    "            if dist_conhecidas[j] > dist:\n",
    "                dist_conhecidas[j] = dist\n",
    "            \n",
    "            \n",
    "            if dist_conhecidas[j] < dist_atual:\n",
    "                dist_atual = dist\n",
    "                obj2 = j\n",
    "        \n",
    "        ordem_de_agrupamento[i][0] = obj1\n",
    "        ordem_de_agrupamento[i][1] = obj2\n",
    "        ordem_de_agrupamento[i][2] = dist_atual\n",
    "        obj1 = obj2\n",
    "        \n",
    "    return ordem_de_agrupamento[np.argsort(ordem_de_agrupamento[:,2])]\n",
    "        "
   ]
  },
  {
   "cell_type": "code",
   "execution_count": 5,
   "metadata": {},
   "outputs": [],
   "source": [
    "def single_link(dataset, k_min, k_max, nome):\n",
    "    numero_de_objetos = len(dataset)\n",
    "    matriz = dist_matrix(dataset)\n",
    "    clusters = np.arange(numero_de_objetos, dtype=int)\n",
    "    \n",
    "    qtd_clusters = numero_de_objetos\n",
    "    ordem_de_agrupamento = mst_single_link(matriz, numero_de_objetos)\n",
    "    \n",
    "    for i in range(numero_de_objetos-k_min):\n",
    "        obj1 = int(ordem_de_agrupamento[i][0])\n",
    "        obj2 = int(ordem_de_agrupamento[i][1])\n",
    "        agrupar_clusters(clusters, [obj1,obj2],numero_de_objetos)\n",
    "    \n",
    "    return clusters"
   ]
  },
  {
   "cell_type": "markdown",
   "metadata": {},
   "source": [
    "## Teste"
   ]
  },
  {
   "cell_type": "code",
   "execution_count": 7,
   "metadata": {},
   "outputs": [
    {
     "data": {
      "text/html": [
       "<div>\n",
       "<style scoped>\n",
       "    .dataframe tbody tr th:only-of-type {\n",
       "        vertical-align: middle;\n",
       "    }\n",
       "\n",
       "    .dataframe tbody tr th {\n",
       "        vertical-align: top;\n",
       "    }\n",
       "\n",
       "    .dataframe thead th {\n",
       "        text-align: right;\n",
       "    }\n",
       "</style>\n",
       "<table border=\"1\" class=\"dataframe\">\n",
       "  <thead>\n",
       "    <tr style=\"text-align: right;\">\n",
       "      <th></th>\n",
       "      <th>identificador</th>\n",
       "      <th>d1</th>\n",
       "      <th>d2</th>\n",
       "    </tr>\n",
       "  </thead>\n",
       "  <tbody>\n",
       "    <tr>\n",
       "      <th>0</th>\n",
       "      <td>monkeyc1g1s1</td>\n",
       "      <td>8.809783</td>\n",
       "      <td>7.611147</td>\n",
       "    </tr>\n",
       "    <tr>\n",
       "      <th>1</th>\n",
       "      <td>monkeyc1g1s2</td>\n",
       "      <td>4.110747</td>\n",
       "      <td>11.103186</td>\n",
       "    </tr>\n",
       "    <tr>\n",
       "      <th>2</th>\n",
       "      <td>monkeyc1g1s3</td>\n",
       "      <td>4.114710</td>\n",
       "      <td>11.039587</td>\n",
       "    </tr>\n",
       "    <tr>\n",
       "      <th>3</th>\n",
       "      <td>monkeyc1g1s4</td>\n",
       "      <td>3.154736</td>\n",
       "      <td>6.743244</td>\n",
       "    </tr>\n",
       "    <tr>\n",
       "      <th>4</th>\n",
       "      <td>monkeyc1g1s5</td>\n",
       "      <td>5.972931</td>\n",
       "      <td>7.537982</td>\n",
       "    </tr>\n",
       "  </tbody>\n",
       "</table>\n",
       "</div>"
      ],
      "text/plain": [
       "  identificador        d1         d2\n",
       "0  monkeyc1g1s1  8.809783   7.611147\n",
       "1  monkeyc1g1s2  4.110747  11.103186\n",
       "2  monkeyc1g1s3  4.114710  11.039587\n",
       "3  monkeyc1g1s4  3.154736   6.743244\n",
       "4  monkeyc1g1s5  5.972931   7.537982"
      ]
     },
     "execution_count": 7,
     "metadata": {},
     "output_type": "execute_result"
    }
   ],
   "source": [
    "df3 = pd.read_csv('datasets/monkey.txt', sep='\\t')\n",
    "df3.columns = ['identificador','d1', 'd2']\n",
    "df3.head()"
   ]
  },
  {
   "cell_type": "code",
   "execution_count": 8,
   "metadata": {},
   "outputs": [
    {
     "name": "stdout",
     "output_type": "stream",
     "text": [
      "15.8 s ± 1.03 s per loop (mean ± std. dev. of 7 runs, 1 loop each)\n"
     ]
    }
   ],
   "source": [
    "%%timeit\n",
    "clusters_df3 = single_link(df3, 5, 7, 'teste')"
   ]
  },
  {
   "cell_type": "code",
   "execution_count": null,
   "metadata": {},
   "outputs": [],
   "source": []
  }
 ],
 "metadata": {
  "kernelspec": {
   "display_name": "Python 3",
   "language": "python",
   "name": "python3"
  },
  "language_info": {
   "codemirror_mode": {
    "name": "ipython",
    "version": 3
   },
   "file_extension": ".py",
   "mimetype": "text/x-python",
   "name": "python",
   "nbconvert_exporter": "python",
   "pygments_lexer": "ipython3",
   "version": "3.8.3"
  }
 },
 "nbformat": 4,
 "nbformat_minor": 4
}
